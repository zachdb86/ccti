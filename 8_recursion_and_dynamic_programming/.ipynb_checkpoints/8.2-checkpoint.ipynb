{
 "cells": [
  {
   "cell_type": "code",
   "execution_count": 1,
   "metadata": {
    "collapsed": true
   },
   "outputs": [],
   "source": [
    "# robot in a grid"
   ]
  },
  {
   "cell_type": "code",
   "execution_count": 3,
   "metadata": {
    "collapsed": true
   },
   "outputs": [],
   "source": [
    "#\n",
    "# Left = [r][c-1]\n",
    "# Up = [r-1][c]"
   ]
  },
  {
   "cell_type": "code",
   "execution_count": null,
   "metadata": {},
   "outputs": [],
   "source": []
  },
  {
   "cell_type": "code",
   "execution_count": 42,
   "metadata": {
    "collapsed": true
   },
   "outputs": [],
   "source": [
    "grid = [[True, True, True, True], [False, True, False, True], [True, True, True, False],[False,False,True, True]]"
   ]
  },
  {
   "cell_type": "code",
   "execution_count": 43,
   "metadata": {},
   "outputs": [
    {
     "name": "stdout",
     "output_type": "stream",
     "text": [
      "[True, True, True, True]\n",
      "[False, True, False, True]\n",
      "[True, True, True, False]\n",
      "[False, False, True, True]\n"
     ]
    }
   ],
   "source": [
    "for row in grid:\n",
    "    print(row)"
   ]
  },
  {
   "cell_type": "code",
   "execution_count": 50,
   "metadata": {},
   "outputs": [],
   "source": [
    "def get_path(maze):\n",
    "    r = len(maze) - 1\n",
    "    c = len(maze[0]) - 1\n",
    "    path = []\n",
    "    failed_points = set()\n",
    "    if find_path(maze, r, c, path, failed_points):\n",
    "        return path\n",
    "    return None\n",
    "    \n",
    "def find_path(maze, r, c, path, failed_points=set()):\n",
    "    print(r,c)\n",
    "    if r < 0 or c < 0 or not maze[r][c]:\n",
    "        return False\n",
    "    \n",
    "    if (r, c) in failed_points:\n",
    "        return False\n",
    "    \n",
    "    origin = r is 0 and c is 0\n",
    "    \n",
    "    if origin or find_path(maze, r-1, c, path, failed_points) or find_path(maze, r, c-1, path, failed_points):\n",
    "        path.append((r, c))\n",
    "        return True\n",
    "    \n",
    "    failed_points.add(r, c)\n",
    "    return False\n",
    "    "
   ]
  },
  {
   "cell_type": "code",
   "execution_count": 51,
   "metadata": {},
   "outputs": [
    {
     "name": "stdout",
     "output_type": "stream",
     "text": [
      "3 3\n",
      "2 3\n",
      "3 2\n",
      "2 2\n",
      "1 2\n",
      "2 1\n",
      "1 1\n",
      "0 1\n",
      "-1 1\n",
      "0 0\n"
     ]
    },
    {
     "data": {
      "text/plain": [
       "[(0, 0), (0, 1), (1, 1), (2, 1), (2, 2), (3, 2), (3, 3)]"
      ]
     },
     "execution_count": 51,
     "metadata": {},
     "output_type": "execute_result"
    }
   ],
   "source": [
    "get_path(grid)"
   ]
  },
  {
   "cell_type": "code",
   "execution_count": 46,
   "metadata": {
    "collapsed": true
   },
   "outputs": [],
   "source": [
    "test = {(1,2), (3,4)}"
   ]
  },
  {
   "cell_type": "code",
   "execution_count": 47,
   "metadata": {},
   "outputs": [
    {
     "data": {
      "text/plain": [
       "{(1, 2), (3, 4)}"
      ]
     },
     "execution_count": 47,
     "metadata": {},
     "output_type": "execute_result"
    }
   ],
   "source": [
    "test"
   ]
  },
  {
   "cell_type": "code",
   "execution_count": 48,
   "metadata": {},
   "outputs": [
    {
     "data": {
      "text/plain": [
       "True"
      ]
     },
     "execution_count": 48,
     "metadata": {},
     "output_type": "execute_result"
    }
   ],
   "source": [
    "(1,2) in test"
   ]
  },
  {
   "cell_type": "code",
   "execution_count": null,
   "metadata": {
    "collapsed": true
   },
   "outputs": [],
   "source": []
  }
 ],
 "metadata": {
  "kernelspec": {
   "display_name": "Python 3",
   "language": "python",
   "name": "python3"
  },
  "language_info": {
   "codemirror_mode": {
    "name": "ipython",
    "version": 3
   },
   "file_extension": ".py",
   "mimetype": "text/x-python",
   "name": "python",
   "nbconvert_exporter": "python",
   "pygments_lexer": "ipython3",
   "version": "3.6.2"
  }
 },
 "nbformat": 4,
 "nbformat_minor": 2
}
