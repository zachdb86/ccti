{
 "cells": [
  {
   "cell_type": "code",
   "execution_count": 42,
   "metadata": {},
   "outputs": [],
   "source": [
    "# Power Set\n",
    "\n",
    "def subsets(s, subs=[]):\n",
    "    if len(s) == 0:\n",
    "        if s not in subs:\n",
    "            subs.append(s)\n",
    "        return subs\n",
    "    else:\n",
    "        if s not in subs:\n",
    "            subs.append(s)\n",
    "        for v in s:\n",
    "            subsets(s - {v}, subs)\n",
    "    return subs\n",
    "            "
   ]
  },
  {
   "cell_type": "code",
   "execution_count": 43,
   "metadata": {
    "collapsed": true
   },
   "outputs": [],
   "source": [
    "my_set = {1,2,3,4}"
   ]
  },
  {
   "cell_type": "code",
   "execution_count": 44,
   "metadata": {},
   "outputs": [
    {
     "data": {
      "text/plain": [
       "[{1, 2, 3, 4},\n",
       " {2, 3, 4},\n",
       " {3, 4},\n",
       " {4},\n",
       " set(),\n",
       " {3},\n",
       " {2, 4},\n",
       " {2},\n",
       " {2, 3},\n",
       " {1, 3, 4},\n",
       " {1, 4},\n",
       " {1},\n",
       " {1, 3},\n",
       " {1, 2, 4},\n",
       " {1, 2},\n",
       " {1, 2, 3}]"
      ]
     },
     "execution_count": 44,
     "metadata": {},
     "output_type": "execute_result"
    }
   ],
   "source": [
    "subsets(my_set)"
   ]
  },
  {
   "cell_type": "code",
   "execution_count": null,
   "metadata": {
    "collapsed": true
   },
   "outputs": [],
   "source": []
  }
 ],
 "metadata": {
  "kernelspec": {
   "display_name": "Python 3",
   "language": "python",
   "name": "python3"
  },
  "language_info": {
   "codemirror_mode": {
    "name": "ipython",
    "version": 3
   },
   "file_extension": ".py",
   "mimetype": "text/x-python",
   "name": "python",
   "nbconvert_exporter": "python",
   "pygments_lexer": "ipython3",
   "version": "3.6.2"
  }
 },
 "nbformat": 4,
 "nbformat_minor": 2
}
