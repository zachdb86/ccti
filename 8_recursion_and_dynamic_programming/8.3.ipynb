{
 "cells": [
  {
   "cell_type": "code",
   "execution_count": 9,
   "metadata": {
    "collapsed": true
   },
   "outputs": [],
   "source": [
    "# magic index"
   ]
  },
  {
   "cell_type": "code",
   "execution_count": 42,
   "metadata": {},
   "outputs": [],
   "source": [
    "def magic_index(arr):\n",
    "    return helper(arr, 0, len(arr)-1)\n",
    "\n",
    "def helper(arr, l, r):\n",
    "    m = (l+r) // 2\n",
    "    \n",
    "    if l >= r:\n",
    "        return -1\n",
    "    \n",
    "    if arr[m] == m:\n",
    "        return m\n",
    "    elif arr[m] < m:\n",
    "        return helper(arr, m+1, r)\n",
    "    else:\n",
    "        return helper(arr, l, m-1)"
   ]
  },
  {
   "cell_type": "code",
   "execution_count": 43,
   "metadata": {
    "collapsed": true
   },
   "outputs": [],
   "source": [
    "a = [-2,0,1,2,5,6]"
   ]
  },
  {
   "cell_type": "code",
   "execution_count": 50,
   "metadata": {},
   "outputs": [
    {
     "data": {
      "text/plain": [
       "-1"
      ]
     },
     "execution_count": 50,
     "metadata": {},
     "output_type": "execute_result"
    }
   ],
   "source": [
    "magic_index_2(a)"
   ]
  },
  {
   "cell_type": "code",
   "execution_count": 49,
   "metadata": {},
   "outputs": [],
   "source": [
    "def magic_index_2(arr):\n",
    "    return helper_2(arr, 0, len(arr)-1)\n",
    "\n",
    "def helper_2(arr, l, r):\n",
    "    \n",
    "    if l >= r:\n",
    "        return -1\n",
    "    \n",
    "    m_index = (l+r) // 2\n",
    "    m_value = arr[m_index]\n",
    "    if m_value == m_index:\n",
    "        return m_index\n",
    "    \n",
    "    l_index = min(m_index-1, m_value)\n",
    "    left = helper_2(arr, l, l_index)\n",
    "    if left >= 0:\n",
    "        return left\n",
    "    \n",
    "    r_index = max(m_index+1, m_value)\n",
    "    right = helper_2(arr, r_index, r)\n",
    "    return right\n",
    "    \n",
    "#     elif arr[m] < m:\n",
    "#         return helper(arr, m+1, r)\n",
    "#     else:\n",
    "#         return helper(arr, l, m-1)"
   ]
  },
  {
   "cell_type": "code",
   "execution_count": null,
   "metadata": {},
   "outputs": [],
   "source": []
  },
  {
   "cell_type": "code",
   "execution_count": null,
   "metadata": {
    "collapsed": true
   },
   "outputs": [],
   "source": []
  }
 ],
 "metadata": {
  "kernelspec": {
   "display_name": "Python 3",
   "language": "python",
   "name": "python3"
  },
  "language_info": {
   "codemirror_mode": {
    "name": "ipython",
    "version": 3
   },
   "file_extension": ".py",
   "mimetype": "text/x-python",
   "name": "python",
   "nbconvert_exporter": "python",
   "pygments_lexer": "ipython3",
   "version": "3.6.2"
  }
 },
 "nbformat": 4,
 "nbformat_minor": 2
}
