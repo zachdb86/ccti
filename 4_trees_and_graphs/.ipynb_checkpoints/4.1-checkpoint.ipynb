{
 "cells": [
  {
   "cell_type": "code",
   "execution_count": 6,
   "metadata": {},
   "outputs": [],
   "source": [
    "from collections import deque"
   ]
  },
  {
   "cell_type": "code",
   "execution_count": 33,
   "metadata": {
    "collapsed": true
   },
   "outputs": [],
   "source": [
    "class GraphNode:\n",
    "    def __init__(self, name):\n",
    "        self.name = name\n",
    "        self.children = []\n",
    "        \n",
    "    def __repr__(self):\n",
    "        return self.name"
   ]
  },
  {
   "cell_type": "code",
   "execution_count": 34,
   "metadata": {
    "collapsed": true
   },
   "outputs": [],
   "source": [
    "class Graph:\n",
    "    def __init(self):\n",
    "        self.nodes = []"
   ]
  },
  {
   "cell_type": "code",
   "execution_count": 66,
   "metadata": {
    "collapsed": true
   },
   "outputs": [],
   "source": [
    "a = GraphNode('a')\n",
    "b = GraphNode('b')\n",
    "c = GraphNode('c')\n",
    "d = GraphNode('d')\n",
    "e = GraphNode('e')\n",
    "f = GraphNode('f')\n",
    "a.children.append(b)\n",
    "a.children.append(c)\n",
    "c.children.append(d)\n",
    "d.children.append(e)\n",
    "e.children.append(c)\n"
   ]
  },
  {
   "cell_type": "code",
   "execution_count": 68,
   "metadata": {},
   "outputs": [
    {
     "data": {
      "text/plain": [
       "False"
      ]
     },
     "execution_count": 68,
     "metadata": {},
     "output_type": "execute_result"
    }
   ],
   "source": [
    "route_between_nodes(a,f)"
   ]
  },
  {
   "cell_type": "code",
   "execution_count": 57,
   "metadata": {},
   "outputs": [],
   "source": [
    "def route_between_nodes(a, b):\n",
    "    \n",
    "    q = deque()\n",
    "    visited = set()\n",
    "    q.append(a)\n",
    "    \n",
    "    while len(q) > 0:\n",
    "        current = q.popleft()\n",
    "        if current == b:\n",
    "            return True\n",
    "        for child in current.children:\n",
    "            if child.name not in visited:\n",
    "                q.append(child)\n",
    "                visited.add(child.name)\n",
    "    \n",
    "    return False\n",
    "    "
   ]
  },
  {
   "cell_type": "code",
   "execution_count": 80,
   "metadata": {},
   "outputs": [],
   "source": [
    "def dfs_route_between_nodes(a ,b, route=False, visited=set()):\n",
    "    print(a,b)\n",
    "    if a == b:\n",
    "        route = True\n",
    "    visited.add(a.name)\n",
    "    if route == False:\n",
    "        for r in a.children:\n",
    "            if r.name not in visited:\n",
    "                dfs_route_between_nodes(r, b, route, visited)\n",
    "    \n",
    "    return route\n",
    "    "
   ]
  },
  {
   "cell_type": "code",
   "execution_count": 79,
   "metadata": {},
   "outputs": [
    {
     "name": "stdout",
     "output_type": "stream",
     "text": [
      "a c\n"
     ]
    },
    {
     "data": {
      "text/plain": [
       "False"
      ]
     },
     "execution_count": 79,
     "metadata": {},
     "output_type": "execute_result"
    }
   ],
   "source": [
    "dfs_route_between_nodes(a,c)"
   ]
  },
  {
   "cell_type": "code",
   "execution_count": null,
   "metadata": {
    "collapsed": true
   },
   "outputs": [],
   "source": []
  }
 ],
 "metadata": {
  "kernelspec": {
   "display_name": "Python 3",
   "language": "python",
   "name": "python3"
  },
  "language_info": {
   "codemirror_mode": {
    "name": "ipython",
    "version": 3
   },
   "file_extension": ".py",
   "mimetype": "text/x-python",
   "name": "python",
   "nbconvert_exporter": "python",
   "pygments_lexer": "ipython3",
   "version": "3.6.2"
  }
 },
 "nbformat": 4,
 "nbformat_minor": 2
}
