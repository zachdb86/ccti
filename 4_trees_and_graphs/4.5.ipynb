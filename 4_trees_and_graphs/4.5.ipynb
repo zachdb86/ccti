{
 "cells": [
  {
   "cell_type": "code",
   "execution_count": 1,
   "metadata": {
    "collapsed": true
   },
   "outputs": [],
   "source": [
    "# Validate BST"
   ]
  },
  {
   "cell_type": "code",
   "execution_count": 8,
   "metadata": {},
   "outputs": [],
   "source": [
    "class TreeNode:\n",
    "    def __init__(self, data):\n",
    "        self.data = data\n",
    "        self.left = None\n",
    "        self.right = None"
   ]
  },
  {
   "cell_type": "code",
   "execution_count": 83,
   "metadata": {},
   "outputs": [],
   "source": [
    "def is_bst(root, sibling=None):\n",
    "    \n",
    "    if root.left is None and root.right is None:\n",
    "        return True\n",
    "    \n",
    "    if root.left is not None and root.left.data > root.data:\n",
    "        return False\n",
    "    \n",
    "    if root.right is not None:\n",
    "        if root.right.data < root.data:\n",
    "            return False\n",
    "        if sibling is not None:\n",
    "            if root.right.data > sibling.data:\n",
    "                return False\n",
    "\n",
    "    if root.left is not None and root.right is not None:\n",
    "        return is_bst(root.left, root.right) and is_bst(root.right, None)\n",
    "    elif root.left is None:\n",
    "        return is_bst(root.right, None)\n",
    "    else:\n",
    "        return is_bst(root.left, None)"
   ]
  },
  {
   "cell_type": "code",
   "execution_count": 97,
   "metadata": {
    "collapsed": true
   },
   "outputs": [],
   "source": [
    "a = TreeNode(11)\n",
    "b = TreeNode(4)\n",
    "c = TreeNode(10)\n",
    "d = TreeNode(9)\n",
    "e = TreeNode(2)\n",
    "f = TreeNode(20)"
   ]
  },
  {
   "cell_type": "code",
   "execution_count": 98,
   "metadata": {},
   "outputs": [],
   "source": [
    "a.left = b\n",
    "a.right = c\n",
    "b.right = d\n",
    "b.left = e\n",
    "c.right = f"
   ]
  },
  {
   "cell_type": "code",
   "execution_count": 99,
   "metadata": {},
   "outputs": [
    {
     "data": {
      "text/plain": [
       "False"
      ]
     },
     "execution_count": 99,
     "metadata": {},
     "output_type": "execute_result"
    }
   ],
   "source": [
    "is_bst(a)"
   ]
  },
  {
   "cell_type": "code",
   "execution_count": 93,
   "metadata": {
    "collapsed": true
   },
   "outputs": [],
   "source": [
    "# Book Solution"
   ]
  },
  {
   "cell_type": "code",
   "execution_count": 101,
   "metadata": {},
   "outputs": [],
   "source": [
    "def check_bst(root):\n",
    "    if root is None:\n",
    "        return True\n",
    "    \n",
    "    if not check_bst(root.left):\n",
    "        return False\n",
    "    \n",
    "    if last_printed is not None and root.data <= last_printed:\n",
    "        return False\n",
    "    \n",
    "    last_printed = root.data\n",
    "    \n",
    "    if not check_bst(root.right):\n",
    "        return False\n",
    "    \n",
    "    return True"
   ]
  },
  {
   "cell_type": "code",
   "execution_count": null,
   "metadata": {},
   "outputs": [],
   "source": []
  },
  {
   "cell_type": "code",
   "execution_count": null,
   "metadata": {},
   "outputs": [],
   "source": [
    "def c_bst(node, mn, mx)"
   ]
  },
  {
   "cell_type": "code",
   "execution_count": null,
   "metadata": {
    "collapsed": true
   },
   "outputs": [],
   "source": []
  }
 ],
 "metadata": {
  "kernelspec": {
   "display_name": "Python 3",
   "language": "python",
   "name": "python3"
  },
  "language_info": {
   "codemirror_mode": {
    "name": "ipython",
    "version": 3
   },
   "file_extension": ".py",
   "mimetype": "text/x-python",
   "name": "python",
   "nbconvert_exporter": "python",
   "pygments_lexer": "ipython3",
   "version": "3.6.2"
  }
 },
 "nbformat": 4,
 "nbformat_minor": 2
}
