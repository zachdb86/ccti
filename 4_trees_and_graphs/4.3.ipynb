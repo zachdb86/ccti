{
 "cells": [
  {
   "cell_type": "code",
   "execution_count": 1,
   "metadata": {
    "collapsed": true
   },
   "outputs": [],
   "source": [
    "# list of depths"
   ]
  },
  {
   "cell_type": "code",
   "execution_count": 3,
   "metadata": {
    "collapsed": true
   },
   "outputs": [],
   "source": [
    "class TreeNode:\n",
    "    def __init__(self, data):\n",
    "        self.data = data\n",
    "        self.left = None\n",
    "        self.right = None"
   ]
  },
  {
   "cell_type": "code",
   "execution_count": 4,
   "metadata": {
    "collapsed": true
   },
   "outputs": [],
   "source": [
    "a = TreeNode('a')\n",
    "b = TreeNode('b')\n",
    "c = TreeNode('c')\n",
    "d = TreeNode('d')\n",
    "e = TreeNode('e')\n",
    "f = TreeNode('f')"
   ]
  },
  {
   "cell_type": "code",
   "execution_count": 5,
   "metadata": {
    "collapsed": true
   },
   "outputs": [],
   "source": [
    "a.left = b\n",
    "a.right = c\n",
    "b.left = d\n",
    "b.right = e\n",
    "c.left = f"
   ]
  },
  {
   "cell_type": "code",
   "execution_count": 8,
   "metadata": {
    "collapsed": true
   },
   "outputs": [],
   "source": [
    "class ListNode:\n",
    "    def __init__(self, data):\n",
    "        self.data = data\n",
    "        self.next = None"
   ]
  },
  {
   "cell_type": "code",
   "execution_count": 85,
   "metadata": {
    "collapsed": true
   },
   "outputs": [],
   "source": [
    "def list_of_depths(root, lists, depth=0):    \n",
    "     if root is not None:\n",
    "        n = ListNode(root.data)\n",
    "        \n",
    "        if len(lists) == depth:\n",
    "            lists.append(None)\n",
    "            \n",
    "        if lists[depth] is None:\n",
    "            lists[depth] = n\n",
    "        else:\n",
    "            ll = lists[depth]\n",
    "            while ll.next is not None:\n",
    "                ll = ll.next\n",
    "            ll.next = n\n",
    "            \n",
    "        list_of_depths(root.left, lists, depth+1)\n",
    "        list_of_depths(root.right, lists, depth+1)\n",
    "        "
   ]
  },
  {
   "cell_type": "code",
   "execution_count": 86,
   "metadata": {
    "collapsed": true
   },
   "outputs": [],
   "source": [
    "arr = list_of_depths_wrapper(a)"
   ]
  },
  {
   "cell_type": "code",
   "execution_count": 84,
   "metadata": {
    "collapsed": true
   },
   "outputs": [],
   "source": [
    "def list_of_depths_wrapper(root):\n",
    "    lists = []\n",
    "    list_of_depths(root, lists)\n",
    "    return lists"
   ]
  },
  {
   "cell_type": "code",
   "execution_count": 87,
   "metadata": {},
   "outputs": [
    {
     "name": "stdout",
     "output_type": "stream",
     "text": [
      "a->\n",
      "b->c->\n",
      "d->e->f->\n"
     ]
    }
   ],
   "source": [
    "for ll in arr:\n",
    "    while ll is not None:\n",
    "        print(ll.data, end='->')\n",
    "        ll = ll.next\n",
    "    print('')"
   ]
  },
  {
   "cell_type": "code",
   "execution_count": null,
   "metadata": {
    "collapsed": true
   },
   "outputs": [],
   "source": []
  }
 ],
 "metadata": {
  "kernelspec": {
   "display_name": "Python 3",
   "language": "python",
   "name": "python3"
  },
  "language_info": {
   "codemirror_mode": {
    "name": "ipython",
    "version": 3
   },
   "file_extension": ".py",
   "mimetype": "text/x-python",
   "name": "python",
   "nbconvert_exporter": "python",
   "pygments_lexer": "ipython3",
   "version": "3.6.2"
  }
 },
 "nbformat": 4,
 "nbformat_minor": 2
}
