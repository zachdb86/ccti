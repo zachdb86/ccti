{
 "cells": [
  {
   "cell_type": "code",
   "execution_count": 1,
   "metadata": {
    "collapsed": true
   },
   "outputs": [],
   "source": [
    "import boto3"
   ]
  },
  {
   "cell_type": "code",
   "execution_count": 2,
   "metadata": {
    "collapsed": true
   },
   "outputs": [],
   "source": [
    "idp = boto3.client('cognito-idp')"
   ]
  },
  {
   "cell_type": "code",
   "execution_count": null,
   "metadata": {
    "collapsed": true
   },
   "outputs": [],
   "source": [
    "resp = idp.admin_reset_user_password(\n",
    "    UserPoolId=' us-west-2_17Cxl3ix7',\n",
    "    Username='string'\n",
    ")"
   ]
  },
  {
   "cell_type": "code",
   "execution_count": null,
   "metadata": {
    "collapsed": true
   },
   "outputs": [],
   "source": []
  },
  {
   "cell_type": "code",
   "execution_count": null,
   "metadata": {
    "collapsed": true
   },
   "outputs": [],
   "source": []
  },
  {
   "cell_type": "code",
   "execution_count": 2,
   "metadata": {
    "collapsed": true
   },
   "outputs": [],
   "source": [
    "client = boto3.client('dynamodb')"
   ]
  },
  {
   "cell_type": "code",
   "execution_count": 3,
   "metadata": {
    "collapsed": true
   },
   "outputs": [],
   "source": [
    "data = client.scan(\n",
    "    TableName='demo-inquiries'\n",
    ")"
   ]
  },
  {
   "cell_type": "code",
   "execution_count": 6,
   "metadata": {
    "collapsed": true
   },
   "outputs": [],
   "source": [
    "names = [item['email'] for item in data['Items']]"
   ]
  },
  {
   "cell_type": "code",
   "execution_count": 7,
   "metadata": {},
   "outputs": [
    {
     "data": {
      "text/plain": [
       "[{'S': 'rkcudjoe@hookops.com'},\n",
       " {'S': 'luca.rimoldi@9024sports.com'},\n",
       " {'S': 'bhavika.rambhai@tnz.govt.nz'},\n",
       " {'S': 'astest@test.com'},\n",
       " {'S': 'gabriel@gdr.pr'},\n",
       " {'S': 'sometestingguy@test.com'},\n",
       " {'S': 'chinyi.chow@meltwater.com'},\n",
       " {'S': 'keith@ayzenberg.com'},\n",
       " {'S': 'belmoroe@gmail.com'},\n",
       " {'S': 'asaldanatest@ayzenberg.com'},\n",
       " {'S': 'dsuarez@ayzenberg.com'},\n",
       " {'S': 'asaldana@ayzenberg.com'},\n",
       " {'S': 'brandonreynolds1@hotmail.com'},\n",
       " {'S': 'brandon@grin.co'},\n",
       " {'S': 'thomas@edgeskills.com'},\n",
       " {'S': 'kim.harris@8451.com'}]"
      ]
     },
     "execution_count": 7,
     "metadata": {},
     "output_type": "execute_result"
    }
   ],
   "source": [
    "names"
   ]
  },
  {
   "cell_type": "code",
   "execution_count": 18,
   "metadata": {},
   "outputs": [
    {
     "name": "stdout",
     "output_type": "stream",
     "text": [
      "{'S': 'rkcudjoe@hookops.com'}\n",
      "{'S': 'luca.rimoldi@9024sports.com'}\n",
      "{'S': 'bhavika.rambhai@tnz.govt.nz'}\n",
      "{'S': 'astest@test.com'}\n",
      "{'S': 'gabriel@gdr.pr'}\n",
      "{'S': 'sometestingguy@test.com'}\n",
      "{'S': 'chinyi.chow@meltwater.com'}\n",
      "{'S': 'keith@ayzenberg.com'}\n",
      "{'S': 'belmoroe@gmail.com'}\n",
      "{'S': 'asaldanatest@ayzenberg.com'}\n",
      "{'S': 'dsuarez@ayzenberg.com'}\n",
      "{'S': 'asaldana@ayzenberg.com'}\n",
      "{'S': 'brandonreynolds1@hotmail.com'}\n",
      "{'S': 'brandon@grin.co'}\n",
      "{'S': 'thomas@edgeskills.com'}\n",
      "{'S': 'kim.harris@8451.com'}\n"
     ]
    }
   ],
   "source": [
    "for name in names:\n",
    "    print(name)\n",
    "    client.update_item(\n",
    "        TableName='demo-inquiries',\n",
    "        Key={'email': name},\n",
    "        UpdateExpression=\"set visable = :v\",\n",
    "        ExpressionAttributeValues={\n",
    "            \":v\": { \"S\": \"True\"}\n",
    "        }\n",
    "    )"
   ]
  },
  {
   "cell_type": "code",
   "execution_count": 38,
   "metadata": {},
   "outputs": [
    {
     "ename": "ClientError",
     "evalue": "An error occurred (ValidationException) when calling the Query operation: The provided starting key is invalid",
     "output_type": "error",
     "traceback": [
      "\u001b[0;31m---------------------------------------------------------------------------\u001b[0m",
      "\u001b[0;31mClientError\u001b[0m                               Traceback (most recent call last)",
      "\u001b[0;32m<ipython-input-38-a8f80c2da690>\u001b[0m in \u001b[0;36m<module>\u001b[0;34m()\u001b[0m\n\u001b[1;32m      8\u001b[0m         },\n\u001b[1;32m      9\u001b[0m     \u001b[0mScanIndexForward\u001b[0m\u001b[0;34m=\u001b[0m\u001b[0;32mFalse\u001b[0m\u001b[0;34m,\u001b[0m\u001b[0;34m\u001b[0m\u001b[0m\n\u001b[0;32m---> 10\u001b[0;31m     \u001b[0mLimit\u001b[0m\u001b[0;34m=\u001b[0m\u001b[0;36m2\u001b[0m\u001b[0;34m\u001b[0m\u001b[0m\n\u001b[0m\u001b[1;32m     11\u001b[0m )\n",
      "\u001b[0;32m/usr/local/lib/python3.6/site-packages/botocore/client.py\u001b[0m in \u001b[0;36m_api_call\u001b[0;34m(self, *args, **kwargs)\u001b[0m\n\u001b[1;32m    310\u001b[0m                     \"%s() only accepts keyword arguments.\" % py_operation_name)\n\u001b[1;32m    311\u001b[0m             \u001b[0;31m# The \"self\" in this scope is referring to the BaseClient.\u001b[0m\u001b[0;34m\u001b[0m\u001b[0;34m\u001b[0m\u001b[0m\n\u001b[0;32m--> 312\u001b[0;31m             \u001b[0;32mreturn\u001b[0m \u001b[0mself\u001b[0m\u001b[0;34m.\u001b[0m\u001b[0m_make_api_call\u001b[0m\u001b[0;34m(\u001b[0m\u001b[0moperation_name\u001b[0m\u001b[0;34m,\u001b[0m \u001b[0mkwargs\u001b[0m\u001b[0;34m)\u001b[0m\u001b[0;34m\u001b[0m\u001b[0m\n\u001b[0m\u001b[1;32m    313\u001b[0m \u001b[0;34m\u001b[0m\u001b[0m\n\u001b[1;32m    314\u001b[0m         \u001b[0m_api_call\u001b[0m\u001b[0;34m.\u001b[0m\u001b[0m__name__\u001b[0m \u001b[0;34m=\u001b[0m \u001b[0mstr\u001b[0m\u001b[0;34m(\u001b[0m\u001b[0mpy_operation_name\u001b[0m\u001b[0;34m)\u001b[0m\u001b[0;34m\u001b[0m\u001b[0m\n",
      "\u001b[0;32m/usr/local/lib/python3.6/site-packages/botocore/client.py\u001b[0m in \u001b[0;36m_make_api_call\u001b[0;34m(self, operation_name, api_params)\u001b[0m\n\u001b[1;32m    603\u001b[0m             \u001b[0merror_code\u001b[0m \u001b[0;34m=\u001b[0m \u001b[0mparsed_response\u001b[0m\u001b[0;34m.\u001b[0m\u001b[0mget\u001b[0m\u001b[0;34m(\u001b[0m\u001b[0;34m\"Error\"\u001b[0m\u001b[0;34m,\u001b[0m \u001b[0;34m{\u001b[0m\u001b[0;34m}\u001b[0m\u001b[0;34m)\u001b[0m\u001b[0;34m.\u001b[0m\u001b[0mget\u001b[0m\u001b[0;34m(\u001b[0m\u001b[0;34m\"Code\"\u001b[0m\u001b[0;34m)\u001b[0m\u001b[0;34m\u001b[0m\u001b[0m\n\u001b[1;32m    604\u001b[0m             \u001b[0merror_class\u001b[0m \u001b[0;34m=\u001b[0m \u001b[0mself\u001b[0m\u001b[0;34m.\u001b[0m\u001b[0mexceptions\u001b[0m\u001b[0;34m.\u001b[0m\u001b[0mfrom_code\u001b[0m\u001b[0;34m(\u001b[0m\u001b[0merror_code\u001b[0m\u001b[0;34m)\u001b[0m\u001b[0;34m\u001b[0m\u001b[0m\n\u001b[0;32m--> 605\u001b[0;31m             \u001b[0;32mraise\u001b[0m \u001b[0merror_class\u001b[0m\u001b[0;34m(\u001b[0m\u001b[0mparsed_response\u001b[0m\u001b[0;34m,\u001b[0m \u001b[0moperation_name\u001b[0m\u001b[0;34m)\u001b[0m\u001b[0;34m\u001b[0m\u001b[0m\n\u001b[0m\u001b[1;32m    606\u001b[0m         \u001b[0;32melse\u001b[0m\u001b[0;34m:\u001b[0m\u001b[0;34m\u001b[0m\u001b[0m\n\u001b[1;32m    607\u001b[0m             \u001b[0;32mreturn\u001b[0m \u001b[0mparsed_response\u001b[0m\u001b[0;34m\u001b[0m\u001b[0m\n",
      "\u001b[0;31mClientError\u001b[0m: An error occurred (ValidationException) when calling the Query operation: The provided starting key is invalid"
     ]
    }
   ],
   "source": [
    "srt = client.query(\n",
    "    TableName='demo-inquiries',\n",
    "    IndexName='visable-requested_at-index',\n",
    "    ExclusiveStartKey={ 'email': { 'S': 'gabriel@gdr.pr' }, 'visable': { 'S': 'True'} },\n",
    "    KeyConditionExpression=\"visable=:val\",\n",
    "    ExpressionAttributeValues={\n",
    "            \":val\": {\"S\": 'True'}\n",
    "        },\n",
    "    ScanIndexForward=False,\n",
    "    Limit=2\n",
    ")"
   ]
  },
  {
   "cell_type": "code",
   "execution_count": 35,
   "metadata": {},
   "outputs": [
    {
     "name": "stdout",
     "output_type": "stream",
     "text": [
      "{'S': '2018-01-30 14:19:18'}\n",
      "{'S': '2018-01-30 07:47:09'}\n"
     ]
    }
   ],
   "source": [
    "for item in srt['Items']:\n",
    "    print(item['requested_at'])"
   ]
  },
  {
   "cell_type": "code",
   "execution_count": 36,
   "metadata": {},
   "outputs": [
    {
     "data": {
      "text/plain": [
       "{'Count': 2,\n",
       " 'Items': [{'company': {'S': 'Aruba'},\n",
       "   'email': {'S': 'brandonreynolds1@hotmail.com'},\n",
       "   'message': {'S': \"I'm currently an Advertising student who bartends at Aruba for extra income, they've asked me to create, develop and market a new student night for them. Knowing that to publicise a successful student night people rely on word of mouth and Social media I'm wanting to utilise this software for personal and professional use.\"},\n",
       "   'name': {'S': 'Brandon Reynolds'},\n",
       "   'requested_apis': {'SS': ['Baseline EMV',\n",
       "     'Enhanced Personality Evaluator',\n",
       "     'Knowledge Graph Evaluator',\n",
       "     'Sentiment Analyzer',\n",
       "     'Vertical EMV']},\n",
       "   'requested_at': {'S': '2018-01-30 14:19:18'},\n",
       "   'visable': {'S': 'True'}},\n",
       "  {'approved_apis': {'SS': ['Baseline EMV',\n",
       "     'Enhanced Personality Evaluator',\n",
       "     'Sentiment Analyzer']},\n",
       "   'company': {'S': 'Ayzenberg'},\n",
       "   'email': {'S': 'gabriel@gdr.pr'},\n",
       "   'message': {'S': \"per Rowan's and Kai's request - looking for press demo\"},\n",
       "   'name': {'S': 'gabriel del rio'},\n",
       "   'requested_apis': {'SS': ['Baseline EMV',\n",
       "     'Enhanced Personality Evaluator',\n",
       "     'Sentiment Analyzer']},\n",
       "   'requested_at': {'S': '2018-01-30 07:47:09'},\n",
       "   'visable': {'S': 'True'}}],\n",
       " 'LastEvaluatedKey': {'email': {'S': 'gabriel@gdr.pr'},\n",
       "  'requested_at': {'S': '2018-01-30 07:47:09'},\n",
       "  'visable': {'S': 'True'}},\n",
       " 'ResponseMetadata': {'HTTPHeaders': {'connection': 'keep-alive',\n",
       "   'content-length': '1226',\n",
       "   'content-type': 'application/x-amz-json-1.0',\n",
       "   'date': 'Tue, 30 Jan 2018 23:32:55 GMT',\n",
       "   'server': 'Server',\n",
       "   'x-amz-crc32': '940871928',\n",
       "   'x-amzn-requestid': 'EU5QLJDML3TOEEFACRP1RQMMARVV4KQNSO5AEMVJF66Q9ASUAAJG'},\n",
       "  'HTTPStatusCode': 200,\n",
       "  'RequestId': 'EU5QLJDML3TOEEFACRP1RQMMARVV4KQNSO5AEMVJF66Q9ASUAAJG',\n",
       "  'RetryAttempts': 0},\n",
       " 'ScannedCount': 2}"
      ]
     },
     "execution_count": 36,
     "metadata": {},
     "output_type": "execute_result"
    }
   ],
   "source": [
    "srt"
   ]
  },
  {
   "cell_type": "code",
   "execution_count": null,
   "metadata": {
    "collapsed": true
   },
   "outputs": [],
   "source": []
  }
 ],
 "metadata": {
  "kernelspec": {
   "display_name": "Python 3",
   "language": "python",
   "name": "python3"
  },
  "language_info": {
   "codemirror_mode": {
    "name": "ipython",
    "version": 3
   },
   "file_extension": ".py",
   "mimetype": "text/x-python",
   "name": "python",
   "nbconvert_exporter": "python",
   "pygments_lexer": "ipython3",
   "version": "3.6.2"
  }
 },
 "nbformat": 4,
 "nbformat_minor": 2
}
