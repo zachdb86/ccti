{
 "cells": [
  {
   "cell_type": "code",
   "execution_count": null,
   "metadata": {
    "collapsed": true
   },
   "outputs": [],
   "source": [
    "# Q1: input => -1   1 1 1 1   4 4   2    3 3  1 1 (compact input numbers => $num $num_cnt ..... )\n",
    "#    output => -1 1 1     4   4 2   2 1  3 2  1 2\n",
    "#\n",
    "#     input => -1 1 1 1 1 4 4 1 1\n",
    "#    output => -1 1 1 4 4 2 1 2\n",
    "#\n",
    "#     input => 1 1 1\n",
    "#    output => 1 3\n",
    "# only need to do print\n",
    "# input => array of integer, dedup consecutively duplicated num & print\n",
    "[-1,1,1,1,1,4,4,\n",
    "\n",
    "def compact(arr):\n",
    "    s = \"\"\n",
    "    counter = 0\n",
    "    prev = None\n",
    "    \n",
    "    for i in arr:\n",
    "        if i == prev:\n",
    "            counter += 1\n",
    "        else:\n",
    "            if counter > 0:\n",
    "                s += counter\n",
    "            s += i\n",
    "            counter = 1\n",
    "        prev = i\n",
    "    \n",
    "    print(s)\n",
    "    \n",
    "# Q2. Given a random tree print level by level\n",
    "#      1\n",
    "#     / \\\n",
    "#    2   3\n",
    "#    |  /| \\---\\\n",
    "#    8 4 19 6  10\n",
    "#    |   |\n",
    "#    11  9\n",
    "# print those nodes in level order.\n",
    "# 1 2 3 8 4 19 6 10 11 9\n",
    "# root will be given as input, don't worry about construct testing case.\n",
    "#\n",
    "#     1\n",
    "#    / \\\n",
    "#   2   3\n",
    "#       |\n",
    "#       4\n",
    "#\n",
    "# "
   ]
  },
  {
   "cell_type": "code",
   "execution_count": 87,
   "metadata": {
    "collapsed": true
   },
   "outputs": [],
   "source": [
    "def compact(arr):\n",
    "    s = \"\"\n",
    "    counter = 0\n",
    "    prev = None\n",
    "    \n",
    "    for i in arr:\n",
    "        if i == prev:\n",
    "            counter += 1\n",
    "        else:\n",
    "            if counter > 0:\n",
    "                s += str(counter)\n",
    "            s += str(i)\n",
    "            counter = 1\n",
    "        prev = i\n",
    "    \n",
    "    print(s)"
   ]
  },
  {
   "cell_type": "code",
   "execution_count": 107,
   "metadata": {},
   "outputs": [],
   "source": [
    "def compact(arr):\n",
    "    out = \"\"\n",
    "    counter = 0\n",
    "    \n",
    "    for index, value in enumerate(arr):\n",
    "        counter += 1\n",
    "        if index == len(arr)-1 or arr[index] != arr[index+1]:\n",
    "            out += str(value)\n",
    "            out += str(counter)\n",
    "#         elif arr[index] != arr[index+1]:\n",
    "#             out += str(value)\n",
    "#             out += str(counter)\n",
    "            counter = 0\n",
    "    \n",
    "    print(out)"
   ]
  },
  {
   "cell_type": "code",
   "execution_count": 108,
   "metadata": {
    "collapsed": true
   },
   "outputs": [],
   "source": [
    "a = [1,2,3]"
   ]
  },
  {
   "cell_type": "code",
   "execution_count": 109,
   "metadata": {},
   "outputs": [
    {
     "name": "stdout",
     "output_type": "stream",
     "text": [
      "112131\n"
     ]
    }
   ],
   "source": [
    "compact(a)"
   ]
  },
  {
   "cell_type": "code",
   "execution_count": null,
   "metadata": {
    "collapsed": true
   },
   "outputs": [],
   "source": []
  },
  {
   "cell_type": "code",
   "execution_count": 7,
   "metadata": {
    "collapsed": true
   },
   "outputs": [],
   "source": [
    "class QueueNode:\n",
    "    def __init__(self, data):\n",
    "        self.data = data\n",
    "        self.next = None"
   ]
  },
  {
   "cell_type": "code",
   "execution_count": 82,
   "metadata": {
    "collapsed": true
   },
   "outputs": [],
   "source": [
    "class Queue:\n",
    "    def __init__(self):\n",
    "        self.first = None\n",
    "        self.last = None\n",
    "        \n",
    "    def add(self, data):\n",
    "        n = QueueNode(data)\n",
    "        if self.last is not None:\n",
    "            self.last.next = n\n",
    "        self.last = n\n",
    "        if self.first is None:\n",
    "            self.first = n\n",
    "    \n",
    "    def remove(self):\n",
    "        data = self.first.data\n",
    "        self.first = self.first.next\n",
    "        return data\n",
    "        \n",
    "    def peek(self):\n",
    "        return self.first.data\n",
    "    \n",
    "    def is_empty(self):\n",
    "        return self.first is None\n",
    "    "
   ]
  },
  {
   "cell_type": "code",
   "execution_count": 39,
   "metadata": {
    "collapsed": true
   },
   "outputs": [],
   "source": []
  },
  {
   "cell_type": "code",
   "execution_count": 78,
   "metadata": {
    "collapsed": true
   },
   "outputs": [],
   "source": [
    "class TreeNode:\n",
    "    def __init__(self, data):\n",
    "        self.data = data\n",
    "        self.children = [] \n",
    "\n",
    "def print_nodes(root):\n",
    "    q = Queue()\n",
    "    q.add(root)\n",
    "    while not q.is_empty():\n",
    "        node = q.remove()\n",
    "        print(node.data)\n",
    "        for child in node.children:\n",
    "            q.add(child)  "
   ]
  },
  {
   "cell_type": "code",
   "execution_count": 80,
   "metadata": {
    "collapsed": true
   },
   "outputs": [],
   "source": [
    "l1 = TreeNode(1)\n",
    "l2_l = TreeNode(2)\n",
    "l2_r = TreeNode(3)\n",
    "l2_l.children = [TreeNode(4), TreeNode(5)]\n",
    "l1.children = [l2_l, l2_r]"
   ]
  },
  {
   "cell_type": "code",
   "execution_count": null,
   "metadata": {
    "collapsed": true
   },
   "outputs": [],
   "source": []
  },
  {
   "cell_type": "code",
   "execution_count": 81,
   "metadata": {},
   "outputs": [
    {
     "name": "stdout",
     "output_type": "stream",
     "text": [
      "1\n",
      "2\n",
      "3\n",
      "4\n",
      "5\n"
     ]
    }
   ],
   "source": [
    "print_nodes(l1)"
   ]
  },
  {
   "cell_type": "code",
   "execution_count": 89,
   "metadata": {},
   "outputs": [],
   "source": [
    "a = [1,2]"
   ]
  },
  {
   "cell_type": "code",
   "execution_count": 90,
   "metadata": {},
   "outputs": [
    {
     "ename": "AttributeError",
     "evalue": "'int' object has no attribute 'next'",
     "output_type": "error",
     "traceback": [
      "\u001b[0;31m---------------------------------------------------------------------------\u001b[0m",
      "\u001b[0;31mAttributeError\u001b[0m                            Traceback (most recent call last)",
      "\u001b[0;32m<ipython-input-90-94d0fc884b3a>\u001b[0m in \u001b[0;36m<module>\u001b[0;34m()\u001b[0m\n\u001b[0;32m----> 1\u001b[0;31m \u001b[0ma\u001b[0m\u001b[0;34m[\u001b[0m\u001b[0;36m0\u001b[0m\u001b[0;34m]\u001b[0m\u001b[0;34m.\u001b[0m\u001b[0mnext\u001b[0m\u001b[0;34m\u001b[0m\u001b[0m\n\u001b[0m",
      "\u001b[0;31mAttributeError\u001b[0m: 'int' object has no attribute 'next'"
     ]
    }
   ],
   "source": []
  },
  {
   "cell_type": "code",
   "execution_count": 98,
   "metadata": {},
   "outputs": [
    {
     "ename": "SyntaxError",
     "evalue": "invalid syntax (<ipython-input-98-119e320747f1>, line 1)",
     "output_type": "error",
     "traceback": [
      "\u001b[0;36m  File \u001b[0;32m\"<ipython-input-98-119e320747f1>\"\u001b[0;36m, line \u001b[0;32m1\u001b[0m\n\u001b[0;31m    a,try(4)\u001b[0m\n\u001b[0m        ^\u001b[0m\n\u001b[0;31mSyntaxError\u001b[0m\u001b[0;31m:\u001b[0m invalid syntax\n"
     ]
    }
   ],
   "source": [
    "a,try(4)"
   ]
  },
  {
   "cell_type": "code",
   "execution_count": 99,
   "metadata": {},
   "outputs": [
    {
     "ename": "SyntaxError",
     "evalue": "invalid syntax (<ipython-input-99-046cf5e56ccb>, line 1)",
     "output_type": "error",
     "traceback": [
      "\u001b[0;36m  File \u001b[0;32m\"<ipython-input-99-046cf5e56ccb>\"\u001b[0;36m, line \u001b[0;32m1\u001b[0m\n\u001b[0;31m    a.try(4)\u001b[0m\n\u001b[0m        ^\u001b[0m\n\u001b[0;31mSyntaxError\u001b[0m\u001b[0;31m:\u001b[0m invalid syntax\n"
     ]
    }
   ],
   "source": [
    "a."
   ]
  },
  {
   "cell_type": "code",
   "execution_count": null,
   "metadata": {
    "collapsed": true
   },
   "outputs": [],
   "source": []
  }
 ],
 "metadata": {
  "kernelspec": {
   "display_name": "Python 3",
   "language": "python",
   "name": "python3"
  },
  "language_info": {
   "codemirror_mode": {
    "name": "ipython",
    "version": 3
   },
   "file_extension": ".py",
   "mimetype": "text/x-python",
   "name": "python",
   "nbconvert_exporter": "python",
   "pygments_lexer": "ipython3",
   "version": "3.6.2"
  }
 },
 "nbformat": 4,
 "nbformat_minor": 2
}
