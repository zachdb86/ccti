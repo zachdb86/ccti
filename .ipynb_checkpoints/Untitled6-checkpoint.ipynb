{
 "cells": [
  {
   "cell_type": "code",
   "execution_count": 11,
   "metadata": {
    "collapsed": true
   },
   "outputs": [],
   "source": [
    "def substringk(inp, num):\n",
    "    \n",
    "    for i in range(len(inp)-num+1):\n",
    "        print(inp[i:i+num])"
   ]
  },
  {
   "cell_type": "code",
   "execution_count": 14,
   "metadata": {},
   "outputs": [
    {
     "name": "stdout",
     "output_type": "stream",
     "text": [
      "abcde\n",
      "bcdef\n",
      "cdefg\n"
     ]
    }
   ],
   "source": [
    "substringk('abcdefg', 5)"
   ]
  },
  {
   "cell_type": "code",
   "execution_count": 3,
   "metadata": {
    "collapsed": true
   },
   "outputs": [],
   "source": [
    "a = 'abcdef'"
   ]
  },
  {
   "cell_type": "code",
   "execution_count": 4,
   "metadata": {},
   "outputs": [
    {
     "data": {
      "text/plain": [
       "'ab'"
      ]
     },
     "execution_count": 4,
     "metadata": {},
     "output_type": "execute_result"
    }
   ],
   "source": [
    "a[0:2]"
   ]
  },
  {
   "cell_type": "code",
   "execution_count": 15,
   "metadata": {
    "collapsed": true
   },
   "outputs": [],
   "source": [
    "def unique(s):\n",
    "    seen = set()\n",
    "    for c in s:\n",
    "        if c in seen:\n",
    "            return False\n",
    "        seen.add(c)\n",
    "        \n",
    "    return True"
   ]
  },
  {
   "cell_type": "code",
   "execution_count": 16,
   "metadata": {},
   "outputs": [
    {
     "data": {
      "text/plain": [
       "True"
      ]
     },
     "execution_count": 16,
     "metadata": {},
     "output_type": "execute_result"
    }
   ],
   "source": [
    "unique('abc')"
   ]
  },
  {
   "cell_type": "code",
   "execution_count": 17,
   "metadata": {},
   "outputs": [
    {
     "data": {
      "text/plain": [
       "False"
      ]
     },
     "execution_count": 17,
     "metadata": {},
     "output_type": "execute_result"
    }
   ],
   "source": [
    "unique('ded')"
   ]
  },
  {
   "cell_type": "code",
   "execution_count": 20,
   "metadata": {},
   "outputs": [],
   "source": [
    "if 'da' in ['a','b','c']:\n",
    "    print('blah')"
   ]
  },
  {
   "cell_type": "code",
   "execution_count": 101,
   "metadata": {},
   "outputs": [],
   "source": [
    "def scene(l, subseq=[]):\n",
    "    \n",
    "    if len(l) == 0:\n",
    "        return subseq\n",
    "    \n",
    "    if len(l) == 1:\n",
    "        subseq.append(1)\n",
    "        return subseq\n",
    "         \n",
    "    end = 0\n",
    "    offset = 0\n",
    "     \n",
    "    while offset <= end:\n",
    "        current_frame = l[offset]\n",
    "        print(current_frame)\n",
    "        for i, frame in enumerate(l[offset:]):\n",
    "            if frame == current_frame:\n",
    "                if i + offset > end:\n",
    "                    end = i + offset\n",
    "            print(frame, offset, end)\n",
    "        offset += 1\n",
    "    \n",
    "    subseq.append(offset)\n",
    "    return scene(l[offset:], subseq)\n",
    "    "
   ]
  },
  {
   "cell_type": "code",
   "execution_count": null,
   "metadata": {
    "collapsed": true
   },
   "outputs": [],
   "source": []
  },
  {
   "cell_type": "code",
   "execution_count": 100,
   "metadata": {},
   "outputs": [
    {
     "name": "stdout",
     "output_type": "stream",
     "text": [
      "a\n",
      "a 0 0\n",
      "b 0 0\n",
      "c 0 0\n",
      "d 0 0\n",
      "a 0 4\n",
      "d 0 4\n",
      "e 0 4\n",
      "f 0 4\n",
      "e 0 4\n",
      "g 0 4\n",
      "g 0 4\n",
      "a 0 11\n",
      "b\n",
      "b 1 11\n",
      "c 1 11\n",
      "d 1 11\n",
      "a 1 11\n",
      "d 1 11\n",
      "e 1 11\n",
      "f 1 11\n",
      "e 1 11\n",
      "g 1 11\n",
      "g 1 11\n",
      "a 1 11\n",
      "c\n",
      "c 2 11\n",
      "d 2 11\n",
      "a 2 11\n",
      "d 2 11\n",
      "e 2 11\n",
      "f 2 11\n",
      "e 2 11\n",
      "g 2 11\n",
      "g 2 11\n",
      "a 2 11\n",
      "d\n",
      "d 3 11\n",
      "a 3 11\n",
      "d 3 11\n",
      "e 3 11\n",
      "f 3 11\n",
      "e 3 11\n",
      "g 3 11\n",
      "g 3 11\n",
      "a 3 11\n",
      "a\n",
      "a 4 11\n",
      "d 4 11\n",
      "e 4 11\n",
      "f 4 11\n",
      "e 4 11\n",
      "g 4 11\n",
      "g 4 11\n",
      "a 4 11\n",
      "d\n",
      "d 5 11\n",
      "e 5 11\n",
      "f 5 11\n",
      "e 5 11\n",
      "g 5 11\n",
      "g 5 11\n",
      "a 5 11\n",
      "e\n",
      "e 6 11\n",
      "f 6 11\n",
      "e 6 11\n",
      "g 6 11\n",
      "g 6 11\n",
      "a 6 11\n",
      "f\n",
      "f 7 11\n",
      "e 7 11\n",
      "g 7 11\n",
      "g 7 11\n",
      "a 7 11\n",
      "e\n",
      "e 8 11\n",
      "g 8 11\n",
      "g 8 11\n",
      "a 8 11\n",
      "g\n",
      "g 9 11\n",
      "g 9 11\n",
      "a 9 11\n",
      "g\n",
      "g 10 11\n",
      "a 10 11\n",
      "a\n",
      "a 11 11\n"
     ]
    },
    {
     "data": {
      "text/plain": [
       "[6, 3, 2, 12]"
      ]
     },
     "execution_count": 100,
     "metadata": {},
     "output_type": "execute_result"
    }
   ],
   "source": [
    "scene('abcdadefegga')"
   ]
  },
  {
   "cell_type": "code",
   "execution_count": 55,
   "metadata": {
    "collapsed": true
   },
   "outputs": [],
   "source": [
    "l = [1,2,3]"
   ]
  },
  {
   "cell_type": "code",
   "execution_count": 56,
   "metadata": {},
   "outputs": [
    {
     "data": {
      "text/plain": [
       "[2, 3]"
      ]
     },
     "execution_count": 56,
     "metadata": {},
     "output_type": "execute_result"
    }
   ],
   "source": [
    "l[1:]"
   ]
  },
  {
   "cell_type": "code",
   "execution_count": 59,
   "metadata": {},
   "outputs": [
    {
     "name": "stdout",
     "output_type": "stream",
     "text": [
      "1 2\n",
      "2 3\n"
     ]
    }
   ],
   "source": [
    "for i, c in enumerate(l[1:]):\n",
    "    print(i+1, c)"
   ]
  },
  {
   "cell_type": "code",
   "execution_count": null,
   "metadata": {
    "collapsed": true
   },
   "outputs": [],
   "source": []
  }
 ],
 "metadata": {
  "kernelspec": {
   "display_name": "Python 3",
   "language": "python",
   "name": "python3"
  },
  "language_info": {
   "codemirror_mode": {
    "name": "ipython",
    "version": 3
   },
   "file_extension": ".py",
   "mimetype": "text/x-python",
   "name": "python",
   "nbconvert_exporter": "python",
   "pygments_lexer": "ipython3",
   "version": "3.6.2"
  }
 },
 "nbformat": 4,
 "nbformat_minor": 2
}
