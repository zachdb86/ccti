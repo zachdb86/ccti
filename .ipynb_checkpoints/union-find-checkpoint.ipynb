{
 "cells": [
  {
   "cell_type": "code",
   "execution_count": null,
   "metadata": {
    "collapsed": true
   },
   "outputs": [],
   "source": [
    "# union find"
   ]
  },
  {
   "cell_type": "code",
   "execution_count": 75,
   "metadata": {},
   "outputs": [],
   "source": [
    "class UnionFind:\n",
    "    def __init__(self, size):\n",
    "        self.uf = [None] * size\n",
    "        for s in range(size):\n",
    "            self.uf[s] = s \n",
    "         \n",
    "    def union(self, p, q):\n",
    "        pid = self.uf[p]\n",
    "        qid = self.uf[q]\n",
    "        for i, v in enumerate(self.uf):\n",
    "            if v == :\n",
    "                self.uf[i] = q\n",
    "        \n",
    "    def find(self, p, q):\n",
    "        return self.uf[p] == self.uf[q]\n",
    "        \n",
    "    def count(self):\n",
    "        pass\n",
    "    \n",
    "    def __repr__(self):\n",
    "        s = ''\n",
    "        for i, v in enumerate(self.uf):\n",
    "            s += '{}: {}\\n'.format(i, v)\n",
    "        return s"
   ]
  },
  {
   "cell_type": "code",
   "execution_count": 66,
   "metadata": {},
   "outputs": [],
   "source": [
    "uf = UnionFind(9)"
   ]
  },
  {
   "cell_type": "code",
   "execution_count": 67,
   "metadata": {},
   "outputs": [],
   "source": [
    "s = range(9)"
   ]
  },
  {
   "cell_type": "code",
   "execution_count": 68,
   "metadata": {},
   "outputs": [
    {
     "name": "stdout",
     "output_type": "stream",
     "text": [
      "0: 0\n",
      "1: 1\n",
      "2: 2\n",
      "3: 3\n",
      "4: 4\n",
      "5: 5\n",
      "6: 6\n",
      "7: 7\n",
      "8: 8\n",
      "\n"
     ]
    }
   ],
   "source": [
    "print(uf)"
   ]
  },
  {
   "cell_type": "code",
   "execution_count": 69,
   "metadata": {
    "collapsed": true
   },
   "outputs": [],
   "source": [
    "uf.union(1,2)"
   ]
  },
  {
   "cell_type": "code",
   "execution_count": 70,
   "metadata": {},
   "outputs": [
    {
     "name": "stdout",
     "output_type": "stream",
     "text": [
      "0: 0\n",
      "1: 2\n",
      "2: 2\n",
      "3: 3\n",
      "4: 4\n",
      "5: 5\n",
      "6: 6\n",
      "7: 7\n",
      "8: 8\n",
      "\n"
     ]
    }
   ],
   "source": [
    "print(uf)"
   ]
  },
  {
   "cell_type": "code",
   "execution_count": 71,
   "metadata": {
    "collapsed": true
   },
   "outputs": [],
   "source": [
    "uf.union(2,6)"
   ]
  },
  {
   "cell_type": "code",
   "execution_count": 72,
   "metadata": {},
   "outputs": [
    {
     "name": "stdout",
     "output_type": "stream",
     "text": [
      "0: 0\n",
      "1: 6\n",
      "2: 6\n",
      "3: 3\n",
      "4: 4\n",
      "5: 5\n",
      "6: 6\n",
      "7: 7\n",
      "8: 8\n",
      "\n"
     ]
    }
   ],
   "source": [
    "print(uf)"
   ]
  },
  {
   "cell_type": "code",
   "execution_count": 73,
   "metadata": {
    "collapsed": true
   },
   "outputs": [],
   "source": [
    "uf.union(2,0)"
   ]
  },
  {
   "cell_type": "code",
   "execution_count": 74,
   "metadata": {},
   "outputs": [
    {
     "name": "stdout",
     "output_type": "stream",
     "text": [
      "0: 0\n",
      "1: 0\n",
      "2: 0\n",
      "3: 3\n",
      "4: 4\n",
      "5: 5\n",
      "6: 0\n",
      "7: 7\n",
      "8: 8\n",
      "\n"
     ]
    }
   ],
   "source": [
    "print(uf)"
   ]
  },
  {
   "cell_type": "code",
   "execution_count": 76,
   "metadata": {},
   "outputs": [
    {
     "data": {
      "text/plain": [
       "False"
      ]
     },
     "execution_count": 76,
     "metadata": {},
     "output_type": "execute_result"
    }
   ],
   "source": [
    "uf.find(0,8)"
   ]
  },
  {
   "cell_type": "code",
   "execution_count": 77,
   "metadata": {},
   "outputs": [
    {
     "data": {
      "text/plain": [
       "True"
      ]
     },
     "execution_count": 77,
     "metadata": {},
     "output_type": "execute_result"
    }
   ],
   "source": [
    "uf.find(0,2)"
   ]
  },
  {
   "cell_type": "code",
   "execution_count": 178,
   "metadata": {},
   "outputs": [],
   "source": [
    "class QuickUnion:\n",
    "    def __init__(self, size):\n",
    "        self.uf = [None] * size\n",
    "        self.sz = [1] * size\n",
    "        for i in range(size):\n",
    "            self.uf[i] = i \n",
    "         \n",
    "    def union(self, p, q):\n",
    "        i = self.__root(p)\n",
    "        j = self.__root(q)\n",
    "        if sizep < wq:\n",
    "            self.uf[rp] = self.uf[rq]\n",
    "        else:\n",
    "            self.uf[rq] = self.uf[rp]\n",
    "        \n",
    "    def __root(self, i):\n",
    "        while self.uf[i] != i:\n",
    "            i = self.uf[i]\n",
    "        return i\n",
    "            \n",
    "    def find(self, p, q):\n",
    "        return self.__find_root(p) == self.__root(q)\n",
    "        \n",
    "    def count(self):\n",
    "        pass\n",
    "    \n",
    "    def __repr__(self):\n",
    "        s = ''\n",
    "        for i, v in enumerate(self.uf):\n",
    "            s += '{}: {}\\n'.format(i, v)\n",
    "        return s\n",
    "        "
   ]
  },
  {
   "cell_type": "code",
   "execution_count": 168,
   "metadata": {},
   "outputs": [],
   "source": [
    "qu = QuickUnion(10)"
   ]
  },
  {
   "cell_type": "code",
   "execution_count": 169,
   "metadata": {},
   "outputs": [
    {
     "data": {
      "text/plain": [
       "0: 0\n",
       "1: 1\n",
       "2: 2\n",
       "3: 3\n",
       "4: 4\n",
       "5: 5\n",
       "6: 6\n",
       "7: 7\n",
       "8: 8\n",
       "9: 9"
      ]
     },
     "execution_count": 169,
     "metadata": {},
     "output_type": "execute_result"
    }
   ],
   "source": [
    "qu"
   ]
  },
  {
   "cell_type": "code",
   "execution_count": 170,
   "metadata": {},
   "outputs": [
    {
     "name": "stdout",
     "output_type": "stream",
     "text": [
      "hp: 0\n",
      "hq: 0\n"
     ]
    }
   ],
   "source": [
    "qu.union(4,3)"
   ]
  },
  {
   "cell_type": "code",
   "execution_count": 171,
   "metadata": {},
   "outputs": [
    {
     "data": {
      "text/plain": [
       "0: 0\n",
       "1: 1\n",
       "2: 2\n",
       "3: 4\n",
       "4: 4\n",
       "5: 5\n",
       "6: 6\n",
       "7: 7\n",
       "8: 8\n",
       "9: 9"
      ]
     },
     "execution_count": 171,
     "metadata": {},
     "output_type": "execute_result"
    }
   ],
   "source": [
    "qu"
   ]
  },
  {
   "cell_type": "code",
   "execution_count": 172,
   "metadata": {},
   "outputs": [
    {
     "name": "stdout",
     "output_type": "stream",
     "text": [
      "hp: 0\n",
      "hq: 1\n"
     ]
    }
   ],
   "source": [
    "qu.union(8,3)"
   ]
  },
  {
   "cell_type": "code",
   "execution_count": 173,
   "metadata": {},
   "outputs": [
    {
     "data": {
      "text/plain": [
       "0: 0\n",
       "1: 1\n",
       "2: 2\n",
       "3: 4\n",
       "4: 4\n",
       "5: 5\n",
       "6: 6\n",
       "7: 7\n",
       "8: 4\n",
       "9: 9"
      ]
     },
     "execution_count": 173,
     "metadata": {},
     "output_type": "execute_result"
    }
   ],
   "source": [
    "qu"
   ]
  },
  {
   "cell_type": "code",
   "execution_count": 174,
   "metadata": {},
   "outputs": [
    {
     "name": "stdout",
     "output_type": "stream",
     "text": [
      "hp: 0\n",
      "hq: 0\n"
     ]
    }
   ],
   "source": [
    "qu.union(6,5)"
   ]
  },
  {
   "cell_type": "code",
   "execution_count": 175,
   "metadata": {},
   "outputs": [
    {
     "data": {
      "text/plain": [
       "0: 0\n",
       "1: 1\n",
       "2: 2\n",
       "3: 4\n",
       "4: 4\n",
       "5: 6\n",
       "6: 6\n",
       "7: 7\n",
       "8: 4\n",
       "9: 9"
      ]
     },
     "execution_count": 175,
     "metadata": {},
     "output_type": "execute_result"
    }
   ],
   "source": [
    "qu"
   ]
  },
  {
   "cell_type": "code",
   "execution_count": 176,
   "metadata": {},
   "outputs": [
    {
     "name": "stdout",
     "output_type": "stream",
     "text": [
      "hp: 0\n",
      "hq: 0\n"
     ]
    }
   ],
   "source": [
    "qu.union(9,4)"
   ]
  },
  {
   "cell_type": "code",
   "execution_count": 166,
   "metadata": {},
   "outputs": [
    {
     "data": {
      "text/plain": [
       "0: 0\n",
       "1: 1\n",
       "2: 2\n",
       "3: 4\n",
       "4: 9\n",
       "5: 6\n",
       "6: 6\n",
       "7: 7\n",
       "8: 4\n",
       "9: 9"
      ]
     },
     "execution_count": 166,
     "metadata": {},
     "output_type": "execute_result"
    }
   ],
   "source": [
    "qu"
   ]
  },
  {
   "cell_type": "code",
   "execution_count": null,
   "metadata": {},
   "outputs": [],
   "source": []
  },
  {
   "cell_type": "code",
   "execution_count": null,
   "metadata": {
    "collapsed": true
   },
   "outputs": [],
   "source": []
  }
 ],
 "metadata": {
  "kernelspec": {
   "display_name": "Python 3",
   "language": "python",
   "name": "python3"
  },
  "language_info": {
   "codemirror_mode": {
    "name": "ipython",
    "version": 3
   },
   "file_extension": ".py",
   "mimetype": "text/x-python",
   "name": "python",
   "nbconvert_exporter": "python",
   "pygments_lexer": "ipython3",
   "version": "3.6.2"
  }
 },
 "nbformat": 4,
 "nbformat_minor": 2
}
