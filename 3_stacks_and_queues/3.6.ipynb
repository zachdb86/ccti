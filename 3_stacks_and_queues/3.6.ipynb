{
 "cells": [
  {
   "cell_type": "code",
   "execution_count": 10,
   "metadata": {},
   "outputs": [],
   "source": [
    "# Animal Shelter\n",
    "# FIFO\n",
    "\n",
    "class Animal:\n",
    "    def __init__(self, species, name):\n",
    "        self.name = name\n",
    "        self.species = species\n",
    "        self.next = None\n",
    "\n",
    "class AnimalShelter:\n",
    "    def __init__(self):\n",
    "        self.start = None\n",
    "        self.end = None\n",
    "    \n",
    "    def enqueue(self, item):\n",
    "        if self.end:\n",
    "            old_end = self.end\n",
    "            old_end.next = item  \n",
    "        \n",
    "        self.end = item       \n",
    "        \n",
    "    def dequeue_any(self):\n",
    "        animal = start\n",
    "        start = animal.next\n",
    "        return animal\n",
    "        \n",
    "    def dequeue_cat(self):\n",
    "        pass\n",
    "        \n",
    "    def dequeue_dog(self):\n",
    "        pass"
   ]
  },
  {
   "cell_type": "code",
   "execution_count": 11,
   "metadata": {},
   "outputs": [],
   "source": [
    "fred = Animal('cat', 'fred')"
   ]
  },
  {
   "cell_type": "code",
   "execution_count": 12,
   "metadata": {},
   "outputs": [
    {
     "data": {
      "text/plain": [
       "<__main__.Animal at 0x10c4b2908>"
      ]
     },
     "execution_count": 12,
     "metadata": {},
     "output_type": "execute_result"
    }
   ],
   "source": [
    "fred"
   ]
  },
  {
   "cell_type": "code",
   "execution_count": null,
   "metadata": {
    "collapsed": true
   },
   "outputs": [],
   "source": []
  }
 ],
 "metadata": {
  "kernelspec": {
   "display_name": "Python 3",
   "language": "python",
   "name": "python3"
  },
  "language_info": {
   "codemirror_mode": {
    "name": "ipython",
    "version": 3
   },
   "file_extension": ".py",
   "mimetype": "text/x-python",
   "name": "python",
   "nbconvert_exporter": "python",
   "pygments_lexer": "ipython3",
   "version": "3.6.2"
  }
 },
 "nbformat": 4,
 "nbformat_minor": 2
}
