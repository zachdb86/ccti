{
 "cells": [
  {
   "cell_type": "code",
   "execution_count": 1,
   "metadata": {
    "collapsed": true
   },
   "outputs": [],
   "source": [
    "# quicksort"
   ]
  },
  {
   "cell_type": "code",
   "execution_count": 11,
   "metadata": {
    "collapsed": true
   },
   "outputs": [],
   "source": [
    "def selection_sort(arr):\n",
    "    for i in range(0, len(arr)):\n",
    "        smallest = i\n",
    "        for j in range(i, len(arr)):\n",
    "            if arr[smallest] > arr[j]:\n",
    "                smallest = j\n",
    "        tmp = arr[i]\n",
    "        arr[i] = arr[smallest]\n",
    "        arr[smallest] = tmp"
   ]
  },
  {
   "cell_type": "code",
   "execution_count": 40,
   "metadata": {
    "collapsed": true
   },
   "outputs": [],
   "source": [
    "def insertion_sort(arr):\n",
    "    for i in range(0, len(arr)):\n",
    "        for j in reversed(range(1,i+1)):\n",
    "            if arr[j] < arr[j-1]:\n",
    "                tmp = arr[j]\n",
    "                arr[j] = arr[j-1]\n",
    "                arr[j-1] = tmp\n",
    "            else:\n",
    "                break"
   ]
  },
  {
   "cell_type": "code",
   "execution_count": 26,
   "metadata": {
    "collapsed": true
   },
   "outputs": [],
   "source": [
    "def quicksort(arr):\n",
    "    qs(arr, 0, len(arr-1))\n",
    "\n",
    "def qs(arr, first, last):\n",
    "    if first < last:\n",
    "        pivot = randint()\n",
    "    "
   ]
  },
  {
   "cell_type": "code",
   "execution_count": 88,
   "metadata": {
    "collapsed": true
   },
   "outputs": [],
   "source": [
    "a = [1,4,9,8,6,4,3,22,13,3]"
   ]
  },
  {
   "cell_type": "code",
   "execution_count": 13,
   "metadata": {
    "collapsed": true
   },
   "outputs": [],
   "source": [
    "selection_sort(a)"
   ]
  },
  {
   "cell_type": "code",
   "execution_count": 14,
   "metadata": {},
   "outputs": [
    {
     "data": {
      "text/plain": [
       "[1, 3, 3, 4, 4, 6, 8, 9, 13, 22]"
      ]
     },
     "execution_count": 14,
     "metadata": {},
     "output_type": "execute_result"
    }
   ],
   "source": [
    "a"
   ]
  },
  {
   "cell_type": "code",
   "execution_count": 42,
   "metadata": {
    "collapsed": true
   },
   "outputs": [],
   "source": [
    "insertion_sort(a)"
   ]
  },
  {
   "cell_type": "code",
   "execution_count": 36,
   "metadata": {},
   "outputs": [
    {
     "data": {
      "text/plain": [
       "[1, 3, 3, 4, 4, 6, 8, 9, 13, 22]"
      ]
     },
     "execution_count": 36,
     "metadata": {},
     "output_type": "execute_result"
    }
   ],
   "source": [
    "a"
   ]
  },
  {
   "cell_type": "code",
   "execution_count": 89,
   "metadata": {
    "collapsed": true
   },
   "outputs": [],
   "source": [
    "def mergesort(arr, low, high):\n",
    "    if low < high:\n",
    "        middle = (low + high) // 2\n",
    "        mergesort(arr, low, middle)\n",
    "        mergesort(arr, middle+1, high)\n",
    "        merge(arr, low, middle, high)\n",
    "        "
   ]
  },
  {
   "cell_type": "code",
   "execution_count": 90,
   "metadata": {
    "collapsed": true
   },
   "outputs": [],
   "source": [
    "def merge(arr, low, middle, high):\n",
    "    len_l = middle - low + 1\n",
    "    len_r = high - middle\n",
    "    left = [None]*len_l\n",
    "    right = [None]*len_r\n",
    "    \n",
    "    for i in range(0,len_l):\n",
    "        left[i] = arr[i+low]\n",
    "        \n",
    "    for j in range(0,len_r):\n",
    "        right[j] = arr[middle + j + 1]\n",
    "    \n",
    "    print(left, right)\n",
    "    \n",
    "    h_left = 0\n",
    "    h_right = 0\n",
    "    current = low\n",
    "    \n",
    "    while h_left < len_l and h_right < len_r:\n",
    "        if left[h_left] <= right[h_right]:\n",
    "            arr[current] = left[h_left]\n",
    "            h_left += 1\n",
    "        else:\n",
    "            arr[current] = right[h_right]\n",
    "            h_right += 1\n",
    "        current += 1\n",
    "    \n",
    "    # copy remaining elements if there are any\n",
    "    while h_left < len_l:\n",
    "        arr[current] = left[h_left]\n",
    "        h_left += 1\n",
    "        current += 1\n",
    "    \n",
    "    while h_right < len_r:\n",
    "        arr[current] = right[h_right]\n",
    "        h_right += 1\n",
    "        current += 1"
   ]
  },
  {
   "cell_type": "code",
   "execution_count": 91,
   "metadata": {
    "scrolled": true
   },
   "outputs": [
    {
     "name": "stdout",
     "output_type": "stream",
     "text": [
      "[1] [4]\n",
      "[1, 4] [9]\n",
      "[8] [6]\n",
      "[1, 4, 9] [6, 8]\n",
      "[4] [3]\n",
      "[3, 4] [22]\n",
      "[13] [3]\n",
      "[3, 4, 22] [3, 13]\n",
      "[1, 4, 6, 8, 9] [3, 3, 4, 13, 22]\n"
     ]
    }
   ],
   "source": [
    "mergesort(a,0,len(a)-1)"
   ]
  },
  {
   "cell_type": "code",
   "execution_count": 92,
   "metadata": {},
   "outputs": [
    {
     "data": {
      "text/plain": [
       "[1, 3, 3, 4, 4, 6, 8, 9, 13, 22]"
      ]
     },
     "execution_count": 92,
     "metadata": {},
     "output_type": "execute_result"
    }
   ],
   "source": [
    "a"
   ]
  },
  {
   "cell_type": "code",
   "execution_count": 93,
   "metadata": {
    "collapsed": true
   },
   "outputs": [],
   "source": [
    "b = [23,45,67,33,2,41,1,9,87,32,13,5,66]"
   ]
  },
  {
   "cell_type": "code",
   "execution_count": 94,
   "metadata": {},
   "outputs": [
    {
     "name": "stdout",
     "output_type": "stream",
     "text": [
      "[23] [45]\n",
      "[67] [33]\n",
      "[23, 45] [33, 67]\n",
      "[2] [41]\n",
      "[2, 41] [1]\n",
      "[23, 33, 45, 67] [1, 2, 41]\n",
      "[9] [87]\n",
      "[9, 87] [32]\n",
      "[13] [5]\n",
      "[5, 13] [66]\n",
      "[9, 32, 87] [5, 13, 66]\n",
      "[1, 2, 23, 33, 41, 45, 67] [5, 9, 13, 32, 66, 87]\n"
     ]
    }
   ],
   "source": [
    "mergesort(b,0,len(b)-1)"
   ]
  },
  {
   "cell_type": "code",
   "execution_count": null,
   "metadata": {
    "collapsed": true
   },
   "outputs": [],
   "source": [
    "def shellsort(arr):\n",
    "    n = len(a)\n",
    "    h = 1\n",
    "    while h < n // 3:\n",
    "        h = 3*h + 1\n",
    "        \n",
    "    while h >= 1:\n",
    "        for i in range(h,n):\n",
    "            \n",
    "        "
   ]
  }
 ],
 "metadata": {
  "kernelspec": {
   "display_name": "Python 3",
   "language": "python",
   "name": "python3"
  },
  "language_info": {
   "codemirror_mode": {
    "name": "ipython",
    "version": 3
   },
   "file_extension": ".py",
   "mimetype": "text/x-python",
   "name": "python",
   "nbconvert_exporter": "python",
   "pygments_lexer": "ipython3",
   "version": "3.6.2"
  }
 },
 "nbformat": 4,
 "nbformat_minor": 2
}
