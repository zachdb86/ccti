{
 "cells": [
  {
   "cell_type": "code",
   "execution_count": 1,
   "metadata": {
    "collapsed": true
   },
   "outputs": [],
   "source": [
    "# intersection"
   ]
  },
  {
   "cell_type": "code",
   "execution_count": 3,
   "metadata": {
    "collapsed": true
   },
   "outputs": [],
   "source": [
    " class Node:\n",
    "    def __init__(self, data):\n",
    "        self.data = data\n",
    "        self.next = None"
   ]
  },
  {
   "cell_type": "code",
   "execution_count": 4,
   "metadata": {
    "collapsed": true
   },
   "outputs": [],
   "source": [
    "def print_list(root):\n",
    "    node = root\n",
    "    while node:\n",
    "        print(node.data)\n",
    "        node = node.next"
   ]
  },
  {
   "cell_type": "code",
   "execution_count": null,
   "metadata": {
    "collapsed": true
   },
   "outputs": [],
   "source": [
    "a = Node(3)\n",
    "b = Node(5)\n",
    "c = Node(8)\n",
    "d = Node(5)\n",
    "e = Node(10)\n",
    "f = Node(2)\n",
    "g = Node(1)\n",
    "\n",
    "a.next = b\n",
    "b.next = c\n",
    "c.next = d\n",
    "d.next = e\n",
    "e.next = f\n",
    "f.next = g"
   ]
  },
  {
   "cell_type": "code",
   "execution_count": 6,
   "metadata": {},
   "outputs": [],
   "source": [
    "def intersection(x, y):\n",
    "    outer = x\n",
    "    inner = y\n",
    "    \n",
    "    while outer:\n",
    "        while inner:\n",
    "            if outer == inner:\n",
    "                return outer\n",
    "            else:\n",
    "                inner = inner.next\n",
    "        outer = outer.next\n",
    "    return None"
   ]
  },
  {
   "cell_type": "code",
   "execution_count": 39,
   "metadata": {},
   "outputs": [],
   "source": [
    "def intersection(x ,y):\n",
    "    len_1, end_1 = length(x)\n",
    "    len_2, end_2 = length(y)\n",
    "    start_1 = x\n",
    "    start_2 = y\n",
    "    \n",
    "    if end_1 == end_2:\n",
    "        if len_1 > len_2:\n",
    "            i = 0\n",
    "            diff = len_1 - len_2\n",
    "            while i < diff:\n",
    "                start_1 = start_1.next\n",
    "                i += 1\n",
    "        elif len_1 < len_2:\n",
    "            i = 0\n",
    "            diff = len_2 - len_1\n",
    "            while i < diff:\n",
    "                start_2 = start_2.next\n",
    "                i += 1\n",
    "        else:\n",
    "            diff = 0\n",
    "    \n",
    "        while start_1:\n",
    "            if start_1 == start_2:\n",
    "                return start_1\n",
    "            else:\n",
    "                start_1 = start_1.next\n",
    "                start_2 = start_2.next\n",
    "        \n",
    "    else:\n",
    "        return None\n",
    "    "
   ]
  },
  {
   "cell_type": "code",
   "execution_count": 8,
   "metadata": {
    "collapsed": true
   },
   "outputs": [],
   "source": [
    "def length(node):\n",
    "    l = 1\n",
    "    while node.next:\n",
    "        l += 1\n",
    "        node = node.next\n",
    "        \n",
    "    return l, node"
   ]
  },
  {
   "cell_type": "code",
   "execution_count": 17,
   "metadata": {
    "collapsed": true
   },
   "outputs": [],
   "source": [
    "a = Node(1)\n",
    "b = Node(2)\n",
    "c = Node(3)\n",
    "d = Node(4)\n",
    "e = Node(5)\n",
    "f = Node(6)"
   ]
  },
  {
   "cell_type": "code",
   "execution_count": 18,
   "metadata": {},
   "outputs": [],
   "source": [
    "d.next = e\n",
    "e.next = f\n",
    "c.next = d\n",
    "a.next = b\n",
    "b.next = d"
   ]
  },
  {
   "cell_type": "code",
   "execution_count": 20,
   "metadata": {},
   "outputs": [
    {
     "name": "stdout",
     "output_type": "stream",
     "text": [
      "1\n",
      "2\n",
      "4\n",
      "5\n",
      "6\n"
     ]
    }
   ],
   "source": [
    "print_list(a)"
   ]
  },
  {
   "cell_type": "code",
   "execution_count": 21,
   "metadata": {},
   "outputs": [
    {
     "name": "stdout",
     "output_type": "stream",
     "text": [
      "3\n",
      "4\n",
      "5\n",
      "6\n"
     ]
    }
   ],
   "source": [
    "print_list(c)"
   ]
  },
  {
   "cell_type": "code",
   "execution_count": 41,
   "metadata": {},
   "outputs": [
    {
     "data": {
      "text/plain": [
       "4"
      ]
     },
     "execution_count": 41,
     "metadata": {},
     "output_type": "execute_result"
    }
   ],
   "source": [
    "intersection(a,c).data"
   ]
  },
  {
   "cell_type": "code",
   "execution_count": null,
   "metadata": {
    "collapsed": true
   },
   "outputs": [],
   "source": []
  }
 ],
 "metadata": {
  "kernelspec": {
   "display_name": "Python 3",
   "language": "python",
   "name": "python3"
  },
  "language_info": {
   "codemirror_mode": {
    "name": "ipython",
    "version": 3
   },
   "file_extension": ".py",
   "mimetype": "text/x-python",
   "name": "python",
   "nbconvert_exporter": "python",
   "pygments_lexer": "ipython3",
   "version": "3.6.2"
  }
 },
 "nbformat": 4,
 "nbformat_minor": 2
}
