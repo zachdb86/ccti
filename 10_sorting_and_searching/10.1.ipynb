{
 "cells": [
  {
   "cell_type": "code",
   "execution_count": 1,
   "metadata": {
    "collapsed": true
   },
   "outputs": [],
   "source": [
    "# sorted merge\n",
    "#\n",
    "# a = [1,3,7,0,0,0]\n",
    "# b = [2,4,6]\n",
    "#"
   ]
  },
  {
   "cell_type": "code",
   "execution_count": 59,
   "metadata": {},
   "outputs": [],
   "source": [
    "def sorted_merge(a, b):\n",
    "    index_a = len(a) - len(b) - 1\n",
    "    index_b = len(b) - 1\n",
    "    index_merged = len(a) - 1\n",
    "    \n",
    "    while index_b >= 0:\n",
    "        if a[index_a] >= b[index_b] and index_a >= 0:\n",
    "            a[index_merged] = a[index_a]\n",
    "            index_a -= 1\n",
    "        else:\n",
    "            a[index_merged] = b[index_b]\n",
    "            index_b -= 1 \n",
    "        index_merged -= 1"
   ]
  },
  {
   "cell_type": "code",
   "execution_count": 60,
   "metadata": {},
   "outputs": [],
   "source": [
    "a = [7,7,7,0,0,0]\n",
    "b = [2,4,6]\n",
    "\n",
    "sorted_merge(a,b)"
   ]
  },
  {
   "cell_type": "code",
   "execution_count": 61,
   "metadata": {},
   "outputs": [
    {
     "data": {
      "text/plain": [
       "[2, 4, 6, 7, 7, 7]"
      ]
     },
     "execution_count": 61,
     "metadata": {},
     "output_type": "execute_result"
    }
   ],
   "source": [
    "a"
   ]
  },
  {
   "cell_type": "code",
   "execution_count": null,
   "metadata": {
    "collapsed": true
   },
   "outputs": [],
   "source": []
  }
 ],
 "metadata": {
  "kernelspec": {
   "display_name": "Python 3",
   "language": "python",
   "name": "python3"
  },
  "language_info": {
   "codemirror_mode": {
    "name": "ipython",
    "version": 3
   },
   "file_extension": ".py",
   "mimetype": "text/x-python",
   "name": "python",
   "nbconvert_exporter": "python",
   "pygments_lexer": "ipython3",
   "version": "3.6.2"
  }
 },
 "nbformat": 4,
 "nbformat_minor": 2
}
