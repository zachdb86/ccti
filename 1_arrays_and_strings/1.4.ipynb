{
 "cells": [
  {
   "cell_type": "code",
   "execution_count": null,
   "metadata": {
    "collapsed": true
   },
   "outputs": [],
   "source": [
    "# palindrome permutation\n",
    "\n",
    "# input: tact coa\n",
    "# output: True (permutations: \"taco cat\", \"atco cta\", ...)"
   ]
  },
  {
   "cell_type": "code",
   "execution_count": 40,
   "metadata": {},
   "outputs": [],
   "source": [
    "def palindrome_permutation(s):\n",
    "    f = frequency(s)\n",
    "    \n",
    "    print(f)\n",
    "    \n",
    "    # even number of letters\n",
    "    if len(s) % 2 == 0:\n",
    "        for _, c in f.items():\n",
    "            if c % 2 != 0:\n",
    "                return False\n",
    "    else:\n",
    "        pivot = False\n",
    "        for _, c in f.items():\n",
    "            if c % 2 != 0:\n",
    "                if pivot == True:\n",
    "                    return False\n",
    "                else:\n",
    "                    pivot = True\n",
    "    return True\n",
    "            \n",
    "    \n",
    "def frequency(s):\n",
    "    char_count = {}\n",
    "    for c in s:\n",
    "        if c not in char_count:\n",
    "            char_count[c] = 1 \n",
    "        else:\n",
    "            char_count[c] += 1\n",
    "    return char_count\n",
    "    "
   ]
  },
  {
   "cell_type": "code",
   "execution_count": 41,
   "metadata": {
    "collapsed": true
   },
   "outputs": [],
   "source": [
    "string = 'hello world'"
   ]
  },
  {
   "cell_type": "code",
   "execution_count": 42,
   "metadata": {},
   "outputs": [
    {
     "data": {
      "text/plain": [
       "{' ': 1, 'd': 1, 'e': 1, 'h': 1, 'l': 3, 'o': 2, 'r': 1, 'w': 1}"
      ]
     },
     "execution_count": 42,
     "metadata": {},
     "output_type": "execute_result"
    }
   ],
   "source": [
    "frequency(string)"
   ]
  },
  {
   "cell_type": "code",
   "execution_count": 44,
   "metadata": {},
   "outputs": [
    {
     "name": "stdout",
     "output_type": "stream",
     "text": [
      "{'t': 1, 'a': 2, 's': 1}\n"
     ]
    },
    {
     "data": {
      "text/plain": [
       "False"
      ]
     },
     "execution_count": 44,
     "metadata": {},
     "output_type": "execute_result"
    }
   ],
   "source": [
    "palindrome_permutation('taas')"
   ]
  },
  {
   "cell_type": "code",
   "execution_count": null,
   "metadata": {
    "collapsed": true
   },
   "outputs": [],
   "source": []
  }
 ],
 "metadata": {
  "kernelspec": {
   "display_name": "Python 3",
   "language": "python",
   "name": "python3"
  },
  "language_info": {
   "codemirror_mode": {
    "name": "ipython",
    "version": 3
   },
   "file_extension": ".py",
   "mimetype": "text/x-python",
   "name": "python",
   "nbconvert_exporter": "python",
   "pygments_lexer": "ipython3",
   "version": "3.6.2"
  }
 },
 "nbformat": 4,
 "nbformat_minor": 2
}
