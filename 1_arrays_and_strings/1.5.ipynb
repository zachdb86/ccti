{
 "cells": [
  {
   "cell_type": "code",
   "execution_count": 1,
   "metadata": {
    "collapsed": true
   },
   "outputs": [],
   "source": [
    "# One Away"
   ]
  },
  {
   "cell_type": "code",
   "execution_count": 33,
   "metadata": {},
   "outputs": [],
   "source": [
    "# TimeComplexity O(N)\n",
    "# SpaceComplexity\n",
    "\n",
    "def one_away(s1, s2):\n",
    "    diff = 0\n",
    "    s = s1 if len(s1) < len(s2) else s2\n",
    "    l = s1 if len(s1) > len(s2) else s2\n",
    "    \n",
    "    if abs(len(s1) - len(s2)) > 1:\n",
    "        return False\n",
    "    \n",
    "    elif len(s1) == len(s2):\n",
    "        for i in range(0, len(s1)):\n",
    "            if s1[i] != s2[i]:\n",
    "                diff += 1\n",
    "                if diff > 1:\n",
    "                    return False\n",
    "                \n",
    "    else:\n",
    "        for i in range(0, len(s)):\n",
    "            if l[diff + i] != s[i]:\n",
    "                diff += 1\n",
    "                if diff > 1:\n",
    "                    return False\n",
    "    \n",
    "    return True"
   ]
  },
  {
   "cell_type": "code",
   "execution_count": 44,
   "metadata": {},
   "outputs": [],
   "source": [
    "a = \"hello\"\n",
    "b = \"hello\""
   ]
  },
  {
   "cell_type": "code",
   "execution_count": 45,
   "metadata": {},
   "outputs": [
    {
     "data": {
      "text/plain": [
       "True"
      ]
     },
     "execution_count": 45,
     "metadata": {},
     "output_type": "execute_result"
    }
   ],
   "source": [
    "one_away(a,b)"
   ]
  },
  {
   "cell_type": "code",
   "execution_count": null,
   "metadata": {
    "collapsed": true
   },
   "outputs": [],
   "source": []
  }
 ],
 "metadata": {
  "kernelspec": {
   "display_name": "Python 3",
   "language": "python",
   "name": "python3"
  },
  "language_info": {
   "codemirror_mode": {
    "name": "ipython",
    "version": 3
   },
   "file_extension": ".py",
   "mimetype": "text/x-python",
   "name": "python",
   "nbconvert_exporter": "python",
   "pygments_lexer": "ipython3",
   "version": "3.6.2"
  }
 },
 "nbformat": 4,
 "nbformat_minor": 2
}
