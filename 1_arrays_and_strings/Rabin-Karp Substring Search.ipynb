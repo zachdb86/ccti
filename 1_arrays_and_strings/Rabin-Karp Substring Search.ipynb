{
 "cells": [
  {
   "cell_type": "code",
   "execution_count": 103,
   "metadata": {},
   "outputs": [],
   "source": [
    "def is_substring(s, b):\n",
    "    ls = len(s)\n",
    "    lb = len(b)\n",
    "    h = [None]*lb\n",
    "    s = [None]*lb\n",
    "    prv = 0\n",
    "    \n",
    "    for i, c in enumerate(b):\n",
    "        h[i] = hash(c)\n",
    "        \n",
    "    for j in range(0,lb-ls+1):\n",
    "        if prv is 0:\n",
    "            print('blah')\n",
    "            for v in range(j, j+ls):\n",
    "                prv += h[v]\n",
    "        else:\n",
    "            prv = prv - h[j-1] + h[j+ls-1]\n",
    "        s[j] = prv\n",
    "        print(prv, j-1, j+ls)\n",
    "    \n",
    "    print(s)\n",
    "    print(h)\n",
    "    "
   ]
  },
  {
   "cell_type": "code",
   "execution_count": 104,
   "metadata": {
    "collapsed": true
   },
   "outputs": [],
   "source": [
    "def hash(c):\n",
    "    return ord(c)"
   ]
  },
  {
   "cell_type": "code",
   "execution_count": 105,
   "metadata": {
    "collapsed": true
   },
   "outputs": [],
   "source": [
    "s = \"hi\"\n",
    "b = \"hello wohild\""
   ]
  },
  {
   "cell_type": "code",
   "execution_count": null,
   "metadata": {},
   "outputs": [],
   "source": []
  },
  {
   "cell_type": "code",
   "execution_count": 106,
   "metadata": {},
   "outputs": [
    {
     "name": "stdout",
     "output_type": "stream",
     "text": [
      "blah\n",
      "205 -1 2\n",
      "209 0 3\n",
      "216 1 4\n",
      "219 2 5\n",
      "143 3 6\n",
      "151 4 7\n",
      "230 5 8\n",
      "215 6 9\n",
      "209 7 10\n",
      "213 8 11\n",
      "208 9 12\n",
      "[205, 209, 216, 219, 143, 151, 230, 215, 209, 213, 208, None]\n",
      "[104, 101, 108, 108, 111, 32, 119, 111, 104, 105, 108, 100]\n"
     ]
    }
   ],
   "source": [
    "is_substring(s, b)"
   ]
  },
  {
   "cell_type": "code",
   "execution_count": null,
   "metadata": {
    "collapsed": true
   },
   "outputs": [],
   "source": []
  }
 ],
 "metadata": {
  "kernelspec": {
   "display_name": "Python 3",
   "language": "python",
   "name": "python3"
  },
  "language_info": {
   "codemirror_mode": {
    "name": "ipython",
    "version": 3
   },
   "file_extension": ".py",
   "mimetype": "text/x-python",
   "name": "python",
   "nbconvert_exporter": "python",
   "pygments_lexer": "ipython3",
   "version": "3.6.2"
  }
 },
 "nbformat": 4,
 "nbformat_minor": 2
}
