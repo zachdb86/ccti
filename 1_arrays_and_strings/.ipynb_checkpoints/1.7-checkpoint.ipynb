{
 "cells": [
  {
   "cell_type": "code",
   "execution_count": 1,
   "metadata": {
    "collapsed": true
   },
   "outputs": [],
   "source": [
    "# rotate matrix"
   ]
  },
  {
   "cell_type": "code",
   "execution_count": 37,
   "metadata": {},
   "outputs": [],
   "source": [
    "def rotate_matrix(m):\n",
    "    size = len(m)\n",
    "    \n",
    "    start = 0\n",
    "    end = size-1\n",
    "    \n",
    "    while start < end:\n",
    "        print(start, end)\n",
    "        \n",
    "        for i in range(end):\n",
    "            \n",
    "            print(i, end)\n",
    "            \n",
    "            tmp_l = m[start][end]\n",
    "            tmp_d = m[end][end]\n",
    "            tmp_r = m[end][start]\n",
    "            tmp_u = m[start][i]\n",
    "\n",
    "            m[start][end] = tmp_u\n",
    "            m[end][end] = tmp_l\n",
    "            m[end][start] = tmp_d\n",
    "            m[start][start] = tmp_r\n",
    "        \n",
    "        start += 1\n",
    "        end -= 1\n",
    "        \n",
    "        \n",
    "\n"
   ]
  },
  {
   "cell_type": "code",
   "execution_count": 38,
   "metadata": {},
   "outputs": [],
   "source": [
    "a = [[1,2,3],[4,5,6],[7,8,9]]"
   ]
  },
  {
   "cell_type": "code",
   "execution_count": 39,
   "metadata": {},
   "outputs": [
    {
     "data": {
      "text/plain": [
       "[[1, 2, 3], [4, 5, 6], [7, 8, 9]]"
      ]
     },
     "execution_count": 39,
     "metadata": {},
     "output_type": "execute_result"
    }
   ],
   "source": [
    "a"
   ]
  },
  {
   "cell_type": "code",
   "execution_count": 40,
   "metadata": {},
   "outputs": [
    {
     "name": "stdout",
     "output_type": "stream",
     "text": [
      "0 2\n",
      "0 2\n",
      "1 2\n"
     ]
    }
   ],
   "source": [
    "rotate_matrix(a)"
   ]
  },
  {
   "cell_type": "code",
   "execution_count": 36,
   "metadata": {},
   "outputs": [
    {
     "data": {
      "text/plain": [
       "[[7, 2, 1], [4, 8, 5], [9, 3, 6]]"
      ]
     },
     "execution_count": 36,
     "metadata": {},
     "output_type": "execute_result"
    }
   ],
   "source": [
    "a"
   ]
  },
  {
   "cell_type": "code",
   "execution_count": null,
   "metadata": {
    "collapsed": true
   },
   "outputs": [],
   "source": []
  }
 ],
 "metadata": {
  "kernelspec": {
   "display_name": "Python 3",
   "language": "python",
   "name": "python3"
  },
  "language_info": {
   "codemirror_mode": {
    "name": "ipython",
    "version": 3
   },
   "file_extension": ".py",
   "mimetype": "text/x-python",
   "name": "python",
   "nbconvert_exporter": "python",
   "pygments_lexer": "ipython3",
   "version": "3.6.2"
  }
 },
 "nbformat": 4,
 "nbformat_minor": 2
}
