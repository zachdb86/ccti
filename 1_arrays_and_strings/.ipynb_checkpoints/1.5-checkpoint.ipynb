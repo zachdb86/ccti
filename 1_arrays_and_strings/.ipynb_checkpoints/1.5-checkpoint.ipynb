{
 "cells": [
  {
   "cell_type": "code",
   "execution_count": 1,
   "metadata": {
    "collapsed": true
   },
   "outputs": [],
   "source": [
    "# One Away"
   ]
  },
  {
   "cell_type": "code",
   "execution_count": 14,
   "metadata": {},
   "outputs": [
    {
     "ename": "IndentationError",
     "evalue": "expected an indented block (<ipython-input-14-37521fba6ec3>, line 17)",
     "output_type": "error",
     "traceback": [
      "\u001b[0;36m  File \u001b[0;32m\"<ipython-input-14-37521fba6ec3>\"\u001b[0;36m, line \u001b[0;32m17\u001b[0m\n\u001b[0;31m    for i in range(0, len(s2)):\u001b[0m\n\u001b[0m      ^\u001b[0m\n\u001b[0;31mIndentationError\u001b[0m\u001b[0;31m:\u001b[0m expected an indented block\n"
     ]
    }
   ],
   "source": [
    "def one_away(s1, s2):\n",
    "    diff = 0\n",
    "    shorter = s1 if len(s1) < len(s2) else s2\n",
    "    longer = s1 if len(s1) > len(s2) else s2\n",
    "    \n",
    "    if abs(len(s1) - len(s2)) > 1:\n",
    "        return False\n",
    "    \n",
    "    if len(s1) == len(s2):\n",
    "        for i in range(0, len(s1)):\n",
    "            if s1[i] != s2[i]:\n",
    "                diff += 1\n",
    "                if diff > 1:\n",
    "                    return False\n",
    "                \n",
    "    if len(s1) > len(s2):\n",
    "        for i in range(0, len(s2)):\n",
    "            if s1[i] != s2[diff + i]:\n",
    "                diff += 1\n",
    "                if diff > 1:\n",
    "                    return False\n",
    "\n",
    "            \n",
    "    \n",
    "    "
   ]
  },
  {
   "cell_type": "code",
   "execution_count": 12,
   "metadata": {},
   "outputs": [],
   "source": [
    "a = \"hello\"\n",
    "b = \"ello\""
   ]
  },
  {
   "cell_type": "code",
   "execution_count": 9,
   "metadata": {},
   "outputs": [
    {
     "data": {
      "text/plain": [
       "False"
      ]
     },
     "execution_count": 9,
     "metadata": {},
     "output_type": "execute_result"
    }
   ],
   "source": [
    "one_away(a,b)"
   ]
  },
  {
   "cell_type": "code",
   "execution_count": null,
   "metadata": {
    "collapsed": true
   },
   "outputs": [],
   "source": []
  }
 ],
 "metadata": {
  "kernelspec": {
   "display_name": "Python 3",
   "language": "python",
   "name": "python3"
  },
  "language_info": {
   "codemirror_mode": {
    "name": "ipython",
    "version": 3
   },
   "file_extension": ".py",
   "mimetype": "text/x-python",
   "name": "python",
   "nbconvert_exporter": "python",
   "pygments_lexer": "ipython3",
   "version": "3.6.2"
  }
 },
 "nbformat": 4,
 "nbformat_minor": 2
}
