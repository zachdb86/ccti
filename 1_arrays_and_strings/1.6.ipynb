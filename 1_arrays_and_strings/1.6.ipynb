{
 "cells": [
  {
   "cell_type": "code",
   "execution_count": 71,
   "metadata": {
    "collapsed": true
   },
   "outputs": [],
   "source": [
    "# String Compression\n",
    "\n",
    "def compress_string(s):\n",
    "    compressed = ''\n",
    "    prev = ''\n",
    "    count = 1\n",
    "    for i in range(len(s)):\n",
    "        if s[i] != prev:\n",
    "            if count > 1:\n",
    "                compressed += str(count)\n",
    "            compressed += s[i]\n",
    "            count = 1\n",
    "        if s[i] == prev:\n",
    "            count += 1\n",
    "        prev = s[i]\n",
    "        if i == len(s)-1 and count > 1:\n",
    "            compressed += str(count)\n",
    "    return compressed"
   ]
  },
  {
   "cell_type": "code",
   "execution_count": 72,
   "metadata": {
    "collapsed": true
   },
   "outputs": [],
   "source": [
    "s = 'aabcccccaaa'"
   ]
  },
  {
   "cell_type": "code",
   "execution_count": 73,
   "metadata": {},
   "outputs": [
    {
     "data": {
      "text/plain": [
       "'a2bc5a3'"
      ]
     },
     "execution_count": 73,
     "metadata": {},
     "output_type": "execute_result"
    }
   ],
   "source": [
    "compress_string(s)"
   ]
  },
  {
   "cell_type": "code",
   "execution_count": 42,
   "metadata": {
    "collapsed": true
   },
   "outputs": [],
   "source": [
    "def recurse(s):\n",
    "    if len(s) == 1:\n",
    "        return(s)\n",
    "    else:\n",
    "        recurse(s[1:])"
   ]
  },
  {
   "cell_type": "code",
   "execution_count": 43,
   "metadata": {},
   "outputs": [
    {
     "name": "stdout",
     "output_type": "stream",
     "text": [
      "o\n",
      "None\n",
      "None\n",
      "None\n"
     ]
    }
   ],
   "source": [
    "recurse(s)"
   ]
  },
  {
   "cell_type": "code",
   "execution_count": 39,
   "metadata": {},
   "outputs": [
    {
     "data": {
      "text/plain": [
       "'hello'"
      ]
     },
     "execution_count": 39,
     "metadata": {},
     "output_type": "execute_result"
    }
   ],
   "source": [
    "s"
   ]
  },
  {
   "cell_type": "code",
   "execution_count": 5,
   "metadata": {},
   "outputs": [],
   "source": [
    "def compress(s):\n",
    "    c = ''\n",
    "    count = 0\n",
    "    for i in range(0, len(s)):\n",
    "        count += 1   \n",
    "        if i == len(s)-1 or s[i] is not s[i+1]:\n",
    "            c += str(s[i]) + str(count)\n",
    "            count = 0\n",
    "            \n",
    "    return c"
   ]
  },
  {
   "cell_type": "code",
   "execution_count": 6,
   "metadata": {},
   "outputs": [
    {
     "data": {
      "text/plain": [
       "'a2b2'"
      ]
     },
     "execution_count": 6,
     "metadata": {},
     "output_type": "execute_result"
    }
   ],
   "source": [
    "compress('aabb')"
   ]
  },
  {
   "cell_type": "code",
   "execution_count": null,
   "metadata": {
    "collapsed": true
   },
   "outputs": [],
   "source": []
  }
 ],
 "metadata": {
  "kernelspec": {
   "display_name": "Python 3",
   "language": "python",
   "name": "python3"
  },
  "language_info": {
   "codemirror_mode": {
    "name": "ipython",
    "version": 3
   },
   "file_extension": ".py",
   "mimetype": "text/x-python",
   "name": "python",
   "nbconvert_exporter": "python",
   "pygments_lexer": "ipython3",
   "version": "3.6.2"
  }
 },
 "nbformat": 4,
 "nbformat_minor": 2
}
