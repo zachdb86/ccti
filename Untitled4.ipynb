{
 "cells": [
  {
   "cell_type": "code",
   "execution_count": 3,
   "metadata": {
    "collapsed": true
   },
   "outputs": [],
   "source": [
    "import boto3\n",
    "import requests"
   ]
  },
  {
   "cell_type": "code",
   "execution_count": 110,
   "metadata": {
    "collapsed": true
   },
   "outputs": [],
   "source": [
    "import boto3\n",
    "\n",
    "apig_client = boto3.client('apigateway')\n",
    "idp_client = boto3.client('cognito-idp')\n",
    "\n",
    "user_pool_id  = 'us-west-2_GztzS3mVR'\n",
    "app_client_id = '6ms308r1bolqe7f5qdq7inu9ol'\n",
    "\n",
    "USERNAME = ''\n",
    "PASSWORD = ''"
   ]
  },
  {
   "cell_type": "code",
   "execution_count": 112,
   "metadata": {},
   "outputs": [],
   "source": [
    "def get_api_key(api_key_id):\n",
    "    key_data = apig_client.get_api_key(\n",
    "        apiKey=api_key_id,\n",
    "        includeValue=True\n",
    "    )\n",
    "    return key_data['value']\n",
    "\n",
    "\n",
    "def get_api_key_id(email, id_token):\n",
    "    headers={\n",
    "        \"Authorization\": id_token\n",
    "    }\n",
    "\n",
    "    r = requests.get(\n",
    "        'https://tufns4s22a.execute-api.us-west-2.amazonaws.com/dev/users/{}'.format(email),\n",
    "        headers=headers\n",
    "    )\n",
    "\n",
    "    return r.json()['data']['user_api_key']['api_key_id']"
   ]
  },
  {
   "cell_type": "code",
   "execution_count": 116,
   "metadata": {},
   "outputs": [],
   "source": [
    "### Authenticate against cognito idp\n",
    "\n",
    "def refresh_token(username, refresh_token):\n",
    "    challenge = idp_client.admin_initiate_auth(\n",
    "        UserPoolId=user_pool_id,\n",
    "        ClientId=app_client_id,\n",
    "        AuthFlow='REFRESH_TOKEN_AUTH',\n",
    "        AuthParameters={\n",
    "            \"USERNAME\": username,\n",
    "            \"REFRESH_TOKEN\": refresh_token\n",
    "        }\n",
    "    )\n",
    "    return challenge['AuthenticationResult']['IdToken']\n",
    "\n",
    "def get_id_token(username, password):\n",
    "    challenge = idp_client.admin_initiate_auth(\n",
    "        UserPoolId=user_pool_id,\n",
    "        ClientId=app_client_id,\n",
    "        AuthFlow='ADMIN_NO_SRP_AUTH',\n",
    "        AuthParameters={\n",
    "            \"USERNAME\": username,\n",
    "            \"PASSWORD\": password\n",
    "        }\n",
    "    )\n",
    "    return refresh_token(username, challenge['AuthenticationResult']['RefreshToken'])\n"
   ]
  },
  {
   "cell_type": "code",
   "execution_count": 114,
   "metadata": {},
   "outputs": [],
   "source": [
    "def do_stuff(email):\n",
    "    id_token = get_id_token(USERNAME, PASSWORD)\n",
    "    api_key_id = get_api_key_id(email, id_token)\n",
    "    api_key = get_api_key(api_key_id)\n",
    "    return api_key"
   ]
  },
  {
   "cell_type": "code",
   "execution_count": 115,
   "metadata": {},
   "outputs": [
    {
     "data": {
      "text/plain": [
       "'e4H0RM1fnblixw9o4tFX1LRH7eCQnTm4h7sFkDh2'"
      ]
     },
     "execution_count": 115,
     "metadata": {},
     "output_type": "execute_result"
    }
   ],
   "source": [
    "do_stuff('jmoore@ayzenberg.com')"
   ]
  },
  {
   "cell_type": "code",
   "execution_count": null,
   "metadata": {
    "collapsed": true
   },
   "outputs": [],
   "source": []
  }
 ],
 "metadata": {
  "kernelspec": {
   "display_name": "Python 3",
   "language": "python",
   "name": "python3"
  },
  "language_info": {
   "codemirror_mode": {
    "name": "ipython",
    "version": 3
   },
   "file_extension": ".py",
   "mimetype": "text/x-python",
   "name": "python",
   "nbconvert_exporter": "python",
   "pygments_lexer": "ipython3",
   "version": "3.6.2"
  }
 },
 "nbformat": 4,
 "nbformat_minor": 2
}
