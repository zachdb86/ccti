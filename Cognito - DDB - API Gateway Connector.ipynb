{
 "cells": [
  {
   "cell_type": "code",
   "execution_count": 34,
   "metadata": {
    "collapsed": true
   },
   "outputs": [],
   "source": [
    "import boto3\n",
    "import pandas as pd"
   ]
  },
  {
   "cell_type": "code",
   "execution_count": 35,
   "metadata": {
    "collapsed": true
   },
   "outputs": [],
   "source": [
    "apig_client = boto3.client('apigateway')\n",
    "ddb_client = boto3.client('dynamodb')\n",
    "idp_client = boto3.client('cognito-idp')\n",
    "\n",
    "API_NAME_TO_USAGE_PLAN = {\n",
    "    'Baseline EMV': '170hjm',\n",
    "    'Vertical EMV': '170hjm',\n",
    "    'Bot Detector': 'b9k8q4',\n",
    "    'Bot Detection': 'b9k8q4',\n",
    "    'Knowledge Graph Evaluator': 'qcl01z',\n",
    "    'Knowledge Graph': 'qcl01z',\n",
    "    'Enhanced Personality Evaluator': 'ue56mc',\n",
    "    'Personality Graph': 'ue56mc',\n",
    "    'Sentiment Analyzer':'976kf0',\n",
    "    'Targeted Sentiment': '976kf0',\n",
    "    'Object Recognition':'usoanm',\n",
    "    'Social Post Image Detector': 'usoanm'\n",
    "}\n",
    "\n",
    "USER_POOL_ID = 'us-west-2_17Cxl3ix7'\n",
    "REQUEST_ACCESS_TABLE = 'demo-inquiries'\n",
    "FED_ID_TO_USER_ID_SUB_TABLE = 'customer_to_api_key_association'"
   ]
  },
  {
   "cell_type": "code",
   "execution_count": 36,
   "metadata": {
    "collapsed": true
   },
   "outputs": [],
   "source": [
    "def get_all_users():\n",
    "    '''\n",
    "    Returns a list of all users for a given cognito user pool\n",
    "    '''\n",
    "    response = idp_client.list_users(\n",
    "        UserPoolId=USER_POOL_ID,\n",
    "        Limit=10,\n",
    "    )\n",
    "    return response['Users']\n",
    "\n",
    "def get_user_by_sub(sub):\n",
    "    '''\n",
    "    Returns a user if found for a given sub (unique identifier)\n",
    "    '''\n",
    "    filt = \"sub='{}'\".format(sub)\n",
    "    try:\n",
    "        response = idp_client.list_users(\n",
    "            UserPoolId=USER_POOL_ID,\n",
    "            Limit=10,\n",
    "            Filter=filt\n",
    "        )\n",
    "    except Exception as e:\n",
    "        print(e)\n",
    "        \n",
    "    return response\n",
    "\n",
    "def get_username(sub):\n",
    "    '''\n",
    "    Parse username from user record\n",
    "    '''\n",
    "    return get_user_by_sub(sub)['Users'][0]['Username']"
   ]
  },
  {
   "cell_type": "markdown",
   "metadata": {},
   "source": [
    "#### Helpers to pull data from DynamoDB tables"
   ]
  },
  {
   "cell_type": "code",
   "execution_count": 37,
   "metadata": {
    "collapsed": true
   },
   "outputs": [],
   "source": [
    "def get_demo_access_requests():\n",
    "    '''\n",
    "    Get list of requests for demo access\n",
    "    '''\n",
    "    response = ddb_client.scan(\n",
    "        TableName=REQUEST_ACCESS_TABLE,\n",
    "        Limit=100\n",
    "    )\n",
    "    return response['Items']\n",
    "\n",
    "def get_id_mappings():\n",
    "    '''\n",
    "    Get list of associations between federated identities and user pool identities\n",
    "    '''\n",
    "    response = ddb_client.scan(\n",
    "        TableName=FED_ID_TO_USER_ID_SUB_TABLE,\n",
    "        Limit=100\n",
    "    )\n",
    "    return response['Items']"
   ]
  },
  {
   "cell_type": "code",
   "execution_count": null,
   "metadata": {
    "collapsed": true
   },
   "outputs": [],
   "source": []
  },
  {
   "cell_type": "code",
   "execution_count": 38,
   "metadata": {
    "collapsed": true
   },
   "outputs": [],
   "source": [
    "def ddb_records_to_list_of_dicts(objs):\n",
    "    '''\n",
    "    Dynamo sucks.  This maps keys to values, removing the additional dict specifying data type.\n",
    "    '''\n",
    "    obj_list = []\n",
    "    for obj in objs:\n",
    "        u = {}\n",
    "        for k, v in obj.items():\n",
    "            for value in v.values():\n",
    "                u[k]=value\n",
    "        obj_list.append(u)\n",
    "    return obj_list\n",
    "        "
   ]
  },
  {
   "cell_type": "markdown",
   "metadata": {},
   "source": [
    "#### Get a list Cognito Identity ID's mapped to Cognito User Pool Usernames"
   ]
  },
  {
   "cell_type": "code",
   "execution_count": 39,
   "metadata": {
    "collapsed": true
   },
   "outputs": [],
   "source": [
    "user_list = ddb_records_to_list_of_dicts(get_id_mappings())\n",
    "u_df = pd.DataFrame(user_list)\n",
    "u_df = u_df.assign(username=u_df['UserId'].apply(get_username))"
   ]
  },
  {
   "cell_type": "markdown",
   "metadata": {},
   "source": [
    "Print Data Frame"
   ]
  },
  {
   "cell_type": "code",
   "execution_count": 40,
   "metadata": {},
   "outputs": [
    {
     "data": {
      "text/html": [
       "<div>\n",
       "<style>\n",
       "    .dataframe thead tr:only-child th {\n",
       "        text-align: right;\n",
       "    }\n",
       "\n",
       "    .dataframe thead th {\n",
       "        text-align: left;\n",
       "    }\n",
       "\n",
       "    .dataframe tbody tr th {\n",
       "        vertical-align: top;\n",
       "    }\n",
       "</style>\n",
       "<table border=\"1\" class=\"dataframe\">\n",
       "  <thead>\n",
       "    <tr style=\"text-align: right;\">\n",
       "      <th></th>\n",
       "      <th>ApiKeyId</th>\n",
       "      <th>Id</th>\n",
       "      <th>UserId</th>\n",
       "      <th>UserPoolId</th>\n",
       "      <th>username</th>\n",
       "    </tr>\n",
       "  </thead>\n",
       "  <tbody>\n",
       "    <tr>\n",
       "      <th>0</th>\n",
       "      <td>fvhv3hhwpi</td>\n",
       "      <td>us-west-2:e605018e-51a3-48ee-a8cd-1b9903fd528f</td>\n",
       "      <td>35b1ca2f-b95d-4225-b94f-f139eca1a916</td>\n",
       "      <td>placeholder</td>\n",
       "      <td>richardm@moorecommgroup.com</td>\n",
       "    </tr>\n",
       "    <tr>\n",
       "      <th>1</th>\n",
       "      <td>k15wh52cm4</td>\n",
       "      <td>us-west-2:aa7af9b0-ece3-426d-ac11-aee4403c497f</td>\n",
       "      <td>a1b3d127-2de3-42cd-a842-8abbb4086c61</td>\n",
       "      <td>placeholder</td>\n",
       "      <td>ytan@ayzenberg.com</td>\n",
       "    </tr>\n",
       "    <tr>\n",
       "      <th>2</th>\n",
       "      <td>q56wh54mn4</td>\n",
       "      <td>us-west-2:4469bf53-8ad1-40ce-97d4-a6076328e9e1</td>\n",
       "      <td>4e0dc03f-1c86-4248-98f5-06148e36ac3e</td>\n",
       "      <td>placeholder</td>\n",
       "      <td>smondelli@juliusworks.com</td>\n",
       "    </tr>\n",
       "    <tr>\n",
       "      <th>3</th>\n",
       "      <td>7ac05cgbtj</td>\n",
       "      <td>us-west-2:473a628a-beb0-41c3-9c3d-914e10c21537</td>\n",
       "      <td>9e01dfee-8a3e-4903-a700-0253e0a4cc99</td>\n",
       "      <td>placeholder</td>\n",
       "      <td>luca.rimoldi@9024sports.com</td>\n",
       "    </tr>\n",
       "    <tr>\n",
       "      <th>4</th>\n",
       "      <td>m3a08by512</td>\n",
       "      <td>us-west-2:c3bf1073-ff60-4f1e-b1cf-b0793ecbc8b3</td>\n",
       "      <td>c6ae17ed-0858-43c5-b8d1-32e27260d2db</td>\n",
       "      <td>placeholder</td>\n",
       "      <td>jmoore@ayzenberg.com</td>\n",
       "    </tr>\n",
       "    <tr>\n",
       "      <th>5</th>\n",
       "      <td>yx3ongg780</td>\n",
       "      <td>us-west-2:76be6a4c-2c7b-4c3c-8d63-75eb02e02276</td>\n",
       "      <td>63e9cf9f-8066-41bb-842d-cb79b25b97f2</td>\n",
       "      <td>placeholder</td>\n",
       "      <td>sometester@test.com</td>\n",
       "    </tr>\n",
       "    <tr>\n",
       "      <th>6</th>\n",
       "      <td>vhsqb6msqj</td>\n",
       "      <td>us-west-2:96c45dd9-aab2-4ce8-af69-11a532bf32e4</td>\n",
       "      <td>55ca586e-c7b5-48cb-9ec5-cc22feda2bdd</td>\n",
       "      <td>placeholder</td>\n",
       "      <td>bhavika.rambhai@tnz.govt.nz</td>\n",
       "    </tr>\n",
       "    <tr>\n",
       "      <th>7</th>\n",
       "      <td>gke5j522x3</td>\n",
       "      <td>us-west-2:e14e4a27-5b2d-4fe9-adc6-36961d944350</td>\n",
       "      <td>b9abe05b-653f-4d37-8d58-747baae770c8</td>\n",
       "      <td>placeholder</td>\n",
       "      <td>asaldana@ayzenberg.com</td>\n",
       "    </tr>\n",
       "    <tr>\n",
       "      <th>8</th>\n",
       "      <td>ig4txz9v28</td>\n",
       "      <td>us-west-2:02699909-cabd-401d-8ecd-1a211783fa1b</td>\n",
       "      <td>316ba772-e73f-40d9-9f99-bec2f8c5014a</td>\n",
       "      <td>placeholder</td>\n",
       "      <td>test@test.com</td>\n",
       "    </tr>\n",
       "    <tr>\n",
       "      <th>9</th>\n",
       "      <td>565olg8p0c</td>\n",
       "      <td>us-west-2:405ea40f-29da-48de-9b44-c0e80244d877</td>\n",
       "      <td>2ca3550c-b995-4905-b33c-8f27d293b178</td>\n",
       "      <td>placeholder</td>\n",
       "      <td>thomas@edgeskills.com</td>\n",
       "    </tr>\n",
       "    <tr>\n",
       "      <th>10</th>\n",
       "      <td>be24mpba35</td>\n",
       "      <td>us-west-2:bff2bce5-3a30-4ce8-92f4-feac5d6c2698</td>\n",
       "      <td>1669762d-bd2a-46f4-a12a-d7ebca1e2ace</td>\n",
       "      <td>placeholder</td>\n",
       "      <td>brandon@grin.co</td>\n",
       "    </tr>\n",
       "    <tr>\n",
       "      <th>11</th>\n",
       "      <td>8wmygk6i33</td>\n",
       "      <td>us-west-2:9b94ebc6-6bf9-41df-a6cc-b1e6b49ea9f2</td>\n",
       "      <td>ab91dbc9-64ff-4103-b2e0-aa5d311e9ef1</td>\n",
       "      <td>placeholder</td>\n",
       "      <td>rnikunen@ayzenberg.com</td>\n",
       "    </tr>\n",
       "    <tr>\n",
       "      <th>12</th>\n",
       "      <td>p1dz44pep1</td>\n",
       "      <td>us-west-2:bff95991-ef36-4ee8-a38f-00e6d6d029d6</td>\n",
       "      <td>4cdb20db-bcf3-4a24-83ba-7401fdfff8a1</td>\n",
       "      <td>placeholder</td>\n",
       "      <td>testinganthony@test.com</td>\n",
       "    </tr>\n",
       "    <tr>\n",
       "      <th>13</th>\n",
       "      <td>h3kk80mwrb</td>\n",
       "      <td>us-west-2:16431038-f615-4368-8c08-0aacf715c94c</td>\n",
       "      <td>811e5819-e33d-4cbd-9dab-3f8f86eaa132</td>\n",
       "      <td>placeholder</td>\n",
       "      <td>zbresnick@soulmates.ai</td>\n",
       "    </tr>\n",
       "  </tbody>\n",
       "</table>\n",
       "</div>"
      ],
      "text/plain": [
       "      ApiKeyId                                              Id  \\\n",
       "0   fvhv3hhwpi  us-west-2:e605018e-51a3-48ee-a8cd-1b9903fd528f   \n",
       "1   k15wh52cm4  us-west-2:aa7af9b0-ece3-426d-ac11-aee4403c497f   \n",
       "2   q56wh54mn4  us-west-2:4469bf53-8ad1-40ce-97d4-a6076328e9e1   \n",
       "3   7ac05cgbtj  us-west-2:473a628a-beb0-41c3-9c3d-914e10c21537   \n",
       "4   m3a08by512  us-west-2:c3bf1073-ff60-4f1e-b1cf-b0793ecbc8b3   \n",
       "5   yx3ongg780  us-west-2:76be6a4c-2c7b-4c3c-8d63-75eb02e02276   \n",
       "6   vhsqb6msqj  us-west-2:96c45dd9-aab2-4ce8-af69-11a532bf32e4   \n",
       "7   gke5j522x3  us-west-2:e14e4a27-5b2d-4fe9-adc6-36961d944350   \n",
       "8   ig4txz9v28  us-west-2:02699909-cabd-401d-8ecd-1a211783fa1b   \n",
       "9   565olg8p0c  us-west-2:405ea40f-29da-48de-9b44-c0e80244d877   \n",
       "10  be24mpba35  us-west-2:bff2bce5-3a30-4ce8-92f4-feac5d6c2698   \n",
       "11  8wmygk6i33  us-west-2:9b94ebc6-6bf9-41df-a6cc-b1e6b49ea9f2   \n",
       "12  p1dz44pep1  us-west-2:bff95991-ef36-4ee8-a38f-00e6d6d029d6   \n",
       "13  h3kk80mwrb  us-west-2:16431038-f615-4368-8c08-0aacf715c94c   \n",
       "\n",
       "                                  UserId   UserPoolId  \\\n",
       "0   35b1ca2f-b95d-4225-b94f-f139eca1a916  placeholder   \n",
       "1   a1b3d127-2de3-42cd-a842-8abbb4086c61  placeholder   \n",
       "2   4e0dc03f-1c86-4248-98f5-06148e36ac3e  placeholder   \n",
       "3   9e01dfee-8a3e-4903-a700-0253e0a4cc99  placeholder   \n",
       "4   c6ae17ed-0858-43c5-b8d1-32e27260d2db  placeholder   \n",
       "5   63e9cf9f-8066-41bb-842d-cb79b25b97f2  placeholder   \n",
       "6   55ca586e-c7b5-48cb-9ec5-cc22feda2bdd  placeholder   \n",
       "7   b9abe05b-653f-4d37-8d58-747baae770c8  placeholder   \n",
       "8   316ba772-e73f-40d9-9f99-bec2f8c5014a  placeholder   \n",
       "9   2ca3550c-b995-4905-b33c-8f27d293b178  placeholder   \n",
       "10  1669762d-bd2a-46f4-a12a-d7ebca1e2ace  placeholder   \n",
       "11  ab91dbc9-64ff-4103-b2e0-aa5d311e9ef1  placeholder   \n",
       "12  4cdb20db-bcf3-4a24-83ba-7401fdfff8a1  placeholder   \n",
       "13  811e5819-e33d-4cbd-9dab-3f8f86eaa132  placeholder   \n",
       "\n",
       "                       username  \n",
       "0   richardm@moorecommgroup.com  \n",
       "1            ytan@ayzenberg.com  \n",
       "2     smondelli@juliusworks.com  \n",
       "3   luca.rimoldi@9024sports.com  \n",
       "4          jmoore@ayzenberg.com  \n",
       "5           sometester@test.com  \n",
       "6   bhavika.rambhai@tnz.govt.nz  \n",
       "7        asaldana@ayzenberg.com  \n",
       "8                 test@test.com  \n",
       "9         thomas@edgeskills.com  \n",
       "10              brandon@grin.co  \n",
       "11       rnikunen@ayzenberg.com  \n",
       "12      testinganthony@test.com  \n",
       "13       zbresnick@soulmates.ai  "
      ]
     },
     "execution_count": 40,
     "metadata": {},
     "output_type": "execute_result"
    }
   ],
   "source": [
    "u_df"
   ]
  },
  {
   "cell_type": "code",
   "execution_count": null,
   "metadata": {
    "collapsed": true
   },
   "outputs": [],
   "source": []
  },
  {
   "cell_type": "code",
   "execution_count": 19,
   "metadata": {
    "collapsed": true
   },
   "outputs": [],
   "source": [
    "iqs = get_demo_access_requests()"
   ]
  },
  {
   "cell_type": "code",
   "execution_count": 20,
   "metadata": {
    "collapsed": true
   },
   "outputs": [],
   "source": [
    "dr_df = pd.DataFrame(ddb_records_to_list_of_dicts(iqs))"
   ]
  },
  {
   "cell_type": "code",
   "execution_count": 21,
   "metadata": {},
   "outputs": [
    {
     "data": {
      "text/html": [
       "<div>\n",
       "<style>\n",
       "    .dataframe thead tr:only-child th {\n",
       "        text-align: right;\n",
       "    }\n",
       "\n",
       "    .dataframe thead th {\n",
       "        text-align: left;\n",
       "    }\n",
       "\n",
       "    .dataframe tbody tr th {\n",
       "        vertical-align: top;\n",
       "    }\n",
       "</style>\n",
       "<table border=\"1\" class=\"dataframe\">\n",
       "  <thead>\n",
       "    <tr style=\"text-align: right;\">\n",
       "      <th></th>\n",
       "      <th>email</th>\n",
       "      <th>requested_apis</th>\n",
       "      <th>requested_at</th>\n",
       "    </tr>\n",
       "  </thead>\n",
       "  <tbody>\n",
       "    <tr>\n",
       "      <th>0</th>\n",
       "      <td>rkcudjoe@hookops.com</td>\n",
       "      <td>[Sentiment Analyzer]</td>\n",
       "      <td>2018-01-18 17:49:10</td>\n",
       "    </tr>\n",
       "    <tr>\n",
       "      <th>1</th>\n",
       "      <td>luca.rimoldi@9024sports.com</td>\n",
       "      <td>[Baseline EMV, Bot Detector, Enhanced Personal...</td>\n",
       "      <td>2018-01-18 11:57:10</td>\n",
       "    </tr>\n",
       "    <tr>\n",
       "      <th>2</th>\n",
       "      <td>bhavika.rambhai@tnz.govt.nz</td>\n",
       "      <td>[Baseline EMV, Bot Detection, Knowledge Graph,...</td>\n",
       "      <td>2018-01-18 00:19:09</td>\n",
       "    </tr>\n",
       "    <tr>\n",
       "      <th>3</th>\n",
       "      <td>brandon@grin.co</td>\n",
       "      <td>[Baseline EMV, Bot Detection, Knowledge Graph,...</td>\n",
       "      <td>2018-01-18 00:16:35</td>\n",
       "    </tr>\n",
       "    <tr>\n",
       "      <th>4</th>\n",
       "      <td>thomas@edgeskills.com</td>\n",
       "      <td>[Knowledge Graph, Object Recognition, Personal...</td>\n",
       "      <td>2018-01-18 00:14:54</td>\n",
       "    </tr>\n",
       "    <tr>\n",
       "      <th>5</th>\n",
       "      <td>kim.harris@8451.com</td>\n",
       "      <td>[Baseline EMV, Enhanced Personality Evaluator,...</td>\n",
       "      <td>2018-01-18 12:43:09</td>\n",
       "    </tr>\n",
       "  </tbody>\n",
       "</table>\n",
       "</div>"
      ],
      "text/plain": [
       "                         email  \\\n",
       "0         rkcudjoe@hookops.com   \n",
       "1  luca.rimoldi@9024sports.com   \n",
       "2  bhavika.rambhai@tnz.govt.nz   \n",
       "3              brandon@grin.co   \n",
       "4        thomas@edgeskills.com   \n",
       "5          kim.harris@8451.com   \n",
       "\n",
       "                                      requested_apis         requested_at  \n",
       "0                               [Sentiment Analyzer]  2018-01-18 17:49:10  \n",
       "1  [Baseline EMV, Bot Detector, Enhanced Personal...  2018-01-18 11:57:10  \n",
       "2  [Baseline EMV, Bot Detection, Knowledge Graph,...  2018-01-18 00:19:09  \n",
       "3  [Baseline EMV, Bot Detection, Knowledge Graph,...  2018-01-18 00:16:35  \n",
       "4  [Knowledge Graph, Object Recognition, Personal...  2018-01-18 00:14:54  \n",
       "5  [Baseline EMV, Enhanced Personality Evaluator,...  2018-01-18 12:43:09  "
      ]
     },
     "execution_count": 21,
     "metadata": {},
     "output_type": "execute_result"
    }
   ],
   "source": [
    "dr_df"
   ]
  },
  {
   "cell_type": "code",
   "execution_count": 22,
   "metadata": {},
   "outputs": [
    {
     "data": {
      "text/plain": [
       "['Knowledge Graph',\n",
       " 'Object Recognition',\n",
       " 'Personality Graph',\n",
       " 'Targeted Sentiment']"
      ]
     },
     "execution_count": 22,
     "metadata": {},
     "output_type": "execute_result"
    }
   ],
   "source": [
    "dr_df['requested_apis'][4]"
   ]
  },
  {
   "cell_type": "code",
   "execution_count": 44,
   "metadata": {},
   "outputs": [
    {
     "name": "stdout",
     "output_type": "stream",
     "text": [
      "{'ResponseMetadata': {'RequestId': 'b7edf01d-0069-11e8-af48-bbab3d2be271', 'HTTPStatusCode': 201, 'HTTPHeaders': {'date': 'Tue, 23 Jan 2018 18:17:49 GMT', 'content-type': 'application/json', 'content-length': '93', 'connection': 'keep-alive', 'x-amzn-requestid': 'b7edf01d-0069-11e8-af48-bbab3d2be271'}, 'RetryAttempts': 0}, 'id': '7ac05cgbtj', 'type': 'API_KEY', 'name': 'us-west-2:473a628a-beb0-41c3-9c3d-914e10c21537'}\n",
      "{'ResponseMetadata': {'RequestId': 'b842c622-0069-11e8-9757-e150e17fb129', 'HTTPStatusCode': 201, 'HTTPHeaders': {'date': 'Tue, 23 Jan 2018 18:17:50 GMT', 'content-type': 'application/json', 'content-length': '93', 'connection': 'keep-alive', 'x-amzn-requestid': 'b842c622-0069-11e8-9757-e150e17fb129'}, 'RetryAttempts': 0}, 'id': '7ac05cgbtj', 'type': 'API_KEY', 'name': 'us-west-2:473a628a-beb0-41c3-9c3d-914e10c21537'}\n",
      "{'ResponseMetadata': {'RequestId': 'b89e05ab-0069-11e8-b53f-dd17562d11fb', 'HTTPStatusCode': 201, 'HTTPHeaders': {'date': 'Tue, 23 Jan 2018 18:17:50 GMT', 'content-type': 'application/json', 'content-length': '93', 'connection': 'keep-alive', 'x-amzn-requestid': 'b89e05ab-0069-11e8-b53f-dd17562d11fb'}, 'RetryAttempts': 0}, 'id': '7ac05cgbtj', 'type': 'API_KEY', 'name': 'us-west-2:473a628a-beb0-41c3-9c3d-914e10c21537'}\n",
      "{'ResponseMetadata': {'RequestId': 'b8fbb66c-0069-11e8-b4f3-4dc91fda3050', 'HTTPStatusCode': 201, 'HTTPHeaders': {'date': 'Tue, 23 Jan 2018 18:17:51 GMT', 'content-type': 'application/json', 'content-length': '93', 'connection': 'keep-alive', 'x-amzn-requestid': 'b8fbb66c-0069-11e8-b4f3-4dc91fda3050'}, 'RetryAttempts': 0}, 'id': '7ac05cgbtj', 'type': 'API_KEY', 'name': 'us-west-2:473a628a-beb0-41c3-9c3d-914e10c21537'}\n",
      "{'ResponseMetadata': {'RequestId': 'b9576ae7-0069-11e8-a324-23b1649894ff', 'HTTPStatusCode': 201, 'HTTPHeaders': {'date': 'Tue, 23 Jan 2018 18:17:52 GMT', 'content-type': 'application/json', 'content-length': '93', 'connection': 'keep-alive', 'x-amzn-requestid': 'b9576ae7-0069-11e8-a324-23b1649894ff'}, 'RetryAttempts': 0}, 'id': '7ac05cgbtj', 'type': 'API_KEY', 'name': 'us-west-2:473a628a-beb0-41c3-9c3d-914e10c21537'}\n",
      "{'ResponseMetadata': {'RequestId': 'b9b73ded-0069-11e8-b53f-dd17562d11fb', 'HTTPStatusCode': 201, 'HTTPHeaders': {'date': 'Tue, 23 Jan 2018 18:17:52 GMT', 'content-type': 'application/json', 'content-length': '93', 'connection': 'keep-alive', 'x-amzn-requestid': 'b9b73ded-0069-11e8-b53f-dd17562d11fb'}, 'RetryAttempts': 0}, 'id': '7ac05cgbtj', 'type': 'API_KEY', 'name': 'us-west-2:473a628a-beb0-41c3-9c3d-914e10c21537'}\n",
      "An error occurred (ConflictException) when calling the CreateUsagePlanKey operation: Usage Plan 170hjm cannot be added because API Key 7ac05cgbtj cannot reference multiple Usage Plans with the same API Stage: 3f3sei9hag:prod\n"
     ]
    }
   ],
   "source": [
    "for _, row in dr_df.iterrows():\n",
    "    usage_plans = [ API_NAME_TO_USAGE_PLAN[r] for r in row['requested_apis']]\n",
    "    email = row['email']\n",
    "    \n",
    "    if email == 'luca.rimoldi@9024sports.com':\n",
    "        for up in usage_plans:\n",
    "            subscribe_to_api(email, up)"
   ]
  },
  {
   "cell_type": "code",
   "execution_count": null,
   "metadata": {
    "collapsed": true
   },
   "outputs": [],
   "source": []
  },
  {
   "cell_type": "code",
   "execution_count": 43,
   "metadata": {
    "collapsed": true
   },
   "outputs": [],
   "source": [
    "def subscribe_to_api(email, usage_plan_id):\n",
    "    \n",
    "    row = u_df.loc[u_df['username'] == email ]\n",
    "    api_key_id = list(row['ApiKeyId'])[0]\n",
    "    try:\n",
    "        resp = apig_client.create_usage_plan_key(\n",
    "            usagePlanId=usage_plan_id,\n",
    "            keyId=api_key_id,\n",
    "            keyType=\"API_KEY\"\n",
    "        )\n",
    "    except Exception as e:\n",
    "        resp = e\n",
    "    print(resp)"
   ]
  },
  {
   "cell_type": "code",
   "execution_count": 33,
   "metadata": {},
   "outputs": [
    {
     "ename": "NameError",
     "evalue": "name 'subscribe_to_api' is not defined",
     "output_type": "error",
     "traceback": [
      "\u001b[0;31m---------------------------------------------------------------------------\u001b[0m",
      "\u001b[0;31mNameError\u001b[0m                                 Traceback (most recent call last)",
      "\u001b[0;32m<ipython-input-33-8806cc7a43a7>\u001b[0m in \u001b[0;36m<module>\u001b[0;34m()\u001b[0m\n\u001b[0;32m----> 1\u001b[0;31m \u001b[0msubscribe_to_api\u001b[0m\u001b[0;34m(\u001b[0m\u001b[0;34m'luca.rimoldi@9024sports.com'\u001b[0m\u001b[0;34m,\u001b[0m\u001b[0;34m'170hjm'\u001b[0m\u001b[0;34m)\u001b[0m\u001b[0;34m\u001b[0m\u001b[0m\n\u001b[0m",
      "\u001b[0;31mNameError\u001b[0m: name 'subscribe_to_api' is not defined"
     ]
    }
   ],
   "source": [
    "subscribe_to_api('luca.rimoldi@9024sports.com','170hjm')"
   ]
  },
  {
   "cell_type": "code",
   "execution_count": 29,
   "metadata": {
    "collapsed": true
   },
   "outputs": [],
   "source": [
    "def get_associated_usage_plans(api_key):\n",
    "    try:\n",
    "        resp = apig_client.get_usage_plans(\n",
    "            keyId=api_key\n",
    "        )\n",
    "    except Exception as e:\n",
    "        print(e)\n",
    "        return\n",
    "    return resp['items']"
   ]
  },
  {
   "cell_type": "code",
   "execution_count": 30,
   "metadata": {},
   "outputs": [
    {
     "data": {
      "text/plain": [
       "[{'apiStages': [{'apiId': 'sg4a47l6w6', 'stage': 'dev'}],\n",
       "  'description': 'This is the basic knowledge graph usage plan',\n",
       "  'id': 'qcl01z',\n",
       "  'name': 'Basic Knowledge Graph',\n",
       "  'quota': {'limit': 10000, 'offset': 0, 'period': 'MONTH'},\n",
       "  'throttle': {'burstLimit': 300, 'rateLimit': 100.0}},\n",
       " {'apiStages': [{'apiId': 'ibfxs3d765', 'stage': 'dev'},\n",
       "   {'apiId': 'qfqw8rsdnj', 'stage': 'dev'},\n",
       "   {'apiId': 'ra2k43k3b8', 'stage': 'dev'}],\n",
       "  'description': 'Free-Tier access to the sentiment analysis API for promotional purposes.',\n",
       "  'id': '976kf0',\n",
       "  'name': 'Basic Seneval Usage Plan',\n",
       "  'quota': {'limit': 10000, 'offset': 0, 'period': 'DAY'},\n",
       "  'throttle': {'burstLimit': 100, 'rateLimit': 10.0}},\n",
       " {'apiStages': [{'apiId': 'zjflm652a6', 'stage': 'Dev'}],\n",
       "  'description': 'Object Detection Usage plan',\n",
       "  'id': 'usoanm',\n",
       "  'name': 'Basic Object Detection',\n",
       "  'quota': {'limit': 200000, 'offset': 0, 'period': 'MONTH'},\n",
       "  'throttle': {'burstLimit': 500, 'rateLimit': 200.0}},\n",
       " {'apiStages': [{'apiId': '5c12h0bttj', 'stage': 'dev'}],\n",
       "  'description': 'Demo plan for public use',\n",
       "  'id': 'ue56mc',\n",
       "  'name': 'Basic Personality Analysis Plan',\n",
       "  'quota': {'limit': 1000, 'offset': 0, 'period': 'DAY'},\n",
       "  'throttle': {'burstLimit': 50, 'rateLimit': 10.0}},\n",
       " {'apiStages': [{'apiId': 'je1farvdzc', 'stage': 'dev'}],\n",
       "  'description': 'Demo plan for bot detection',\n",
       "  'id': 'b9k8q4',\n",
       "  'name': 'Basic Bot Detection Plan',\n",
       "  'quota': {'limit': 1000, 'offset': 0, 'period': 'DAY'},\n",
       "  'throttle': {'burstLimit': 20, 'rateLimit': 10.0}}]"
      ]
     },
     "execution_count": 30,
     "metadata": {},
     "output_type": "execute_result"
    }
   ],
   "source": [
    "get_associated_usage_plans('h3kk80mwrb')"
   ]
  },
  {
   "cell_type": "code",
   "execution_count": 31,
   "metadata": {
    "collapsed": true
   },
   "outputs": [],
   "source": [
    "def find_by_sub(sub):\n",
    "    data = ddb_client.query(\n",
    "        TableName='customer_to_api_key_association',\n",
    "        IndexName='cognito_user_pool_id_index',\n",
    "        KeyConditionExpression=\"UserId = :sub\",\n",
    "        ExpressionAttributeValues={\n",
    "            \":sub\": {\"S\": sub}\n",
    "        }\n",
    "    )\n",
    "    item = ddb_records_to_list_of_dicts(data['Items'])[0]\n",
    "    return item"
   ]
  },
  {
   "cell_type": "code",
   "execution_count": 32,
   "metadata": {},
   "outputs": [
    {
     "data": {
      "text/plain": [
       "{'ApiKeyId': 'h3kk80mwrb',\n",
       " 'Id': 'us-west-2:16431038-f615-4368-8c08-0aacf715c94c',\n",
       " 'UserId': '811e5819-e33d-4cbd-9dab-3f8f86eaa132',\n",
       " 'UserPoolId': 'placeholder'}"
      ]
     },
     "execution_count": 32,
     "metadata": {},
     "output_type": "execute_result"
    }
   ],
   "source": [
    "find_by_sub('811e5819-e33d-4cbd-9dab-3f8f86eaa132')"
   ]
  },
  {
   "cell_type": "code",
   "execution_count": 5,
   "metadata": {},
   "outputs": [],
   "source": [
    "import boto3\n",
    "\n",
    "client = boto3.client('apigateway')\n",
    "\n",
    "key_data = client.get_api_key(apiKey='ybicl4oc1b',includeValue=True)\n",
    "\n",
    "key_data['value'] # API Key Value"
   ]
  },
  {
   "cell_type": "code",
   "execution_count": null,
   "metadata": {},
   "outputs": [],
   "source": []
  },
  {
   "cell_type": "code",
   "execution_count": null,
   "metadata": {
    "collapsed": true
   },
   "outputs": [],
   "source": []
  }
 ],
 "metadata": {
  "kernelspec": {
   "display_name": "Python 3",
   "language": "python",
   "name": "python3"
  },
  "language_info": {
   "codemirror_mode": {
    "name": "ipython",
    "version": 3
   },
   "file_extension": ".py",
   "mimetype": "text/x-python",
   "name": "python",
   "nbconvert_exporter": "python",
   "pygments_lexer": "ipython3",
   "version": "3.6.2"
  }
 },
 "nbformat": 4,
 "nbformat_minor": 2
}
